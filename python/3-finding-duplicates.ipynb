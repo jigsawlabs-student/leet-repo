{
 "cells": [
  {
   "cell_type": "markdown",
   "id": "c79d4a08-2346-4370-beac-adf313fc9286",
   "metadata": {},
   "source": [
    "# Finding Duplicates"
   ]
  },
  {
   "cell_type": "markdown",
   "id": "7e6ecb8e-4950-46af-81b2-ac588af25cf1",
   "metadata": {},
   "source": [
    "### Problem\n",
    "\n",
    "Given two lists, find the duplicate elements."
   ]
  },
  {
   "cell_type": "code",
   "execution_count": 2,
   "id": "839fe7eb-326a-4e16-bbcf-72dedaad5fdb",
   "metadata": {},
   "outputs": [],
   "source": [
    "l_1 = [1, 6, 3, 8, 2]\n",
    "\n",
    "l_2 = [4, 0, 2, 1, 9, 11]"
   ]
  },
  {
   "cell_type": "markdown",
   "id": "1f76ad51-ccef-4716-9d5f-f9fa885a49a4",
   "metadata": {},
   "source": [
    "First solve using the \"brute force\" solution, and then see if you can find a solution that is big o(n)."
   ]
  },
  {
   "cell_type": "markdown",
   "id": "d470dfe7-2a0b-4640-87a9-c27f29263fd1",
   "metadata": {},
   "source": [
    "For the solution, you can ask Chatgpt."
   ]
  },
  {
   "cell_type": "code",
   "execution_count": null,
   "id": "3a958c57-daaa-4819-9293-de324443a930",
   "metadata": {},
   "outputs": [],
   "source": []
  }
 ],
 "metadata": {
  "kernelspec": {
   "display_name": "Python 3 (ipykernel)",
   "language": "python",
   "name": "python3"
  },
  "language_info": {
   "codemirror_mode": {
    "name": "ipython",
    "version": 3
   },
   "file_extension": ".py",
   "mimetype": "text/x-python",
   "name": "python",
   "nbconvert_exporter": "python",
   "pygments_lexer": "ipython3",
   "version": "3.10.6"
  }
 },
 "nbformat": 4,
 "nbformat_minor": 5
}
