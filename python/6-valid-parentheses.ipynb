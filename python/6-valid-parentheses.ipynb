{
 "cells": [
  {
   "cell_type": "markdown",
   "id": "0b506512-dec2-4d24-ac91-692067c6c556",
   "metadata": {},
   "source": [
    "### Valid Parentheses"
   ]
  },
  {
   "cell_type": "markdown",
   "id": "326b7d70-52f7-4dff-bab4-d1962f5c7cae",
   "metadata": {},
   "source": [
    "Given a string s containing just the characters '(', ')', '{', '}', '[' and ']', determine if the input string is valid.\n",
    "\n",
    "An input string is valid if:\n",
    "\n",
    "Open brackets must be closed by the same type of brackets.\n",
    "Open brackets must be closed in the correct order.\n",
    "Every close bracket has a corresponding open bracket of the same type."
   ]
  },
  {
   "cell_type": "code",
   "execution_count": 1,
   "id": "55ca2e89-5824-4148-bdd4-93ac39279e64",
   "metadata": {},
   "outputs": [],
   "source": [
    "s = \"()\"\n",
    "# True \n",
    "\n",
    "\n",
    "s = \"()[]{}\"\n",
    "# True\n",
    "\n",
    "s = \"(]\"\n",
    "# False"
   ]
  },
  {
   "cell_type": "code",
   "execution_count": null,
   "id": "9417a79e-c151-4552-9f4c-91be622af44f",
   "metadata": {},
   "outputs": [],
   "source": []
  }
 ],
 "metadata": {
  "kernelspec": {
   "display_name": "Python 3 (ipykernel)",
   "language": "python",
   "name": "python3"
  },
  "language_info": {
   "codemirror_mode": {
    "name": "ipython",
    "version": 3
   },
   "file_extension": ".py",
   "mimetype": "text/x-python",
   "name": "python",
   "nbconvert_exporter": "python",
   "pygments_lexer": "ipython3",
   "version": "3.10.6"
  }
 },
 "nbformat": 4,
 "nbformat_minor": 5
}
