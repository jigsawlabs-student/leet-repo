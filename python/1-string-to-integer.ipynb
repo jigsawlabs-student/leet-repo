{
 "cells": [
  {
   "cell_type": "markdown",
   "id": "a7202e65-a02a-4c28-8580-8dd5903ef92f",
   "metadata": {},
   "source": [
    "# String to Integer Problem"
   ]
  },
  {
   "cell_type": "markdown",
   "id": "e2bed138-dab5-427e-97c0-8cb48a95b381",
   "metadata": {},
   "source": [
    "Here the task is to write code that will take a string and convert it to an integer.  Give it a shot."
   ]
  },
  {
   "cell_type": "markdown",
   "id": "2f799312-d7c5-4be8-b485-fe22b18a016a",
   "metadata": {},
   "source": [
    "> The answers are in comments below."
   ]
  },
  {
   "cell_type": "code",
   "execution_count": 1,
   "id": "7b6c407d-d150-4343-8e57-bbb0a0d976b7",
   "metadata": {},
   "outputs": [],
   "source": [
    "s = \"42\"\n",
    "# 42\n",
    "\n",
    "s_two = \"   -42\"\n",
    "#-42\n",
    "s_three = \"4193 with words\"\n",
    "#4193"
   ]
  }
 ],
 "metadata": {
  "kernelspec": {
   "display_name": "Python 3 (ipykernel)",
   "language": "python",
   "name": "python3"
  },
  "language_info": {
   "codemirror_mode": {
    "name": "ipython",
    "version": 3
   },
   "file_extension": ".py",
   "mimetype": "text/x-python",
   "name": "python",
   "nbconvert_exporter": "python",
   "pygments_lexer": "ipython3",
   "version": "3.10.6"
  }
 },
 "nbformat": 4,
 "nbformat_minor": 5
}
