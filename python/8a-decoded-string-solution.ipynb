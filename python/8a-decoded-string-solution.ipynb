{
 "cells": [
  {
   "cell_type": "markdown",
   "id": "b04dca45-eec8-4f14-a73e-6ecde9fa04a3",
   "metadata": {},
   "source": [
    "# Decoded String Solution"
   ]
  },
  {
   "cell_type": "code",
   "execution_count": 1,
   "id": "276c9987-d926-454c-912f-dec9dab77142",
   "metadata": {},
   "outputs": [],
   "source": [
    "# # \"2a3b1c4d2e\" -> \"aabbbcddddee\" \n",
    "\n",
    "def decoded(encoded_string):\n",
    "    output = \"\"\n",
    "    for counter, char in zip(encoded_string[::2], encoded_string[1::2]):\n",
    "        output += int(counter) * char\n",
    "    return output\n",
    "    "
   ]
  },
  {
   "cell_type": "code",
   "execution_count": 2,
   "id": "017af899-dcd7-439f-ba54-a37287bdb529",
   "metadata": {},
   "outputs": [
    {
     "data": {
      "text/plain": [
       "'aabbbcddddee'"
      ]
     },
     "execution_count": 2,
     "metadata": {},
     "output_type": "execute_result"
    }
   ],
   "source": [
    "decoded(\"2a3b1c4d2e\")"
   ]
  },
  {
   "cell_type": "markdown",
   "id": "0f22c400-4bf3-40eb-9440-e5a37ae2e1b3",
   "metadata": {},
   "source": [
    "Above one of the main tricks is just seeing how to group our characters into lists of two.  This is a nice trick to know.  Here, you can see it performed similarly with lists."
   ]
  },
  {
   "cell_type": "code",
   "execution_count": 3,
   "id": "b9230cb8-dfdd-49db-a505-561d5db7a8fa",
   "metadata": {},
   "outputs": [
    {
     "data": {
      "text/plain": [
       "[[1, 2], [3, 4], [5, 6], [7, 8], [9]]"
      ]
     },
     "execution_count": 3,
     "metadata": {},
     "output_type": "execute_result"
    }
   ],
   "source": [
    "n = 2\n",
    "l = [1,2,3,4,5,6,7,8,9]\n",
    "[l[i:i+n] for i in range(0, len(l), n)]"
   ]
  },
  {
   "cell_type": "markdown",
   "id": "475c607d-7cb7-4525-b37b-c2c46967babe",
   "metadata": {},
   "source": [
    "Practice this on your own without looking.  "
   ]
  },
  {
   "cell_type": "code",
   "execution_count": null,
   "id": "40d489a9-7c14-4a34-9bed-6f45019f15ef",
   "metadata": {},
   "outputs": [],
   "source": []
  }
 ],
 "metadata": {
  "kernelspec": {
   "display_name": "Python 3 (ipykernel)",
   "language": "python",
   "name": "python3"
  },
  "language_info": {
   "codemirror_mode": {
    "name": "ipython",
    "version": 3
   },
   "file_extension": ".py",
   "mimetype": "text/x-python",
   "name": "python",
   "nbconvert_exporter": "python",
   "pygments_lexer": "ipython3",
   "version": "3.10.6"
  }
 },
 "nbformat": 4,
 "nbformat_minor": 5
}
