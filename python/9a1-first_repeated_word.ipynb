{
 "cells": [
  {
   "cell_type": "markdown",
   "id": "a6ec2a79-fca1-480a-974c-55eb0a9edd13",
   "metadata": {},
   "source": [
    "# First Repeated Word Problem"
   ]
  },
  {
   "cell_type": "markdown",
   "id": "009bd5ac-d343-46e4-9679-e5a2cd941188",
   "metadata": {},
   "source": [
    "### Introduction"
   ]
  },
  {
   "cell_type": "markdown",
   "id": "acf678ef-384a-48d7-870c-424083ab233b",
   "metadata": {},
   "source": [
    "Here, we would like you to find the first repeated word in a sentence (not in a string).  For this problem, a sentence can be delimited by the characters of `.`, `?`, `:`.\n",
    "\n",
    "For example, notice below that the first repeated word is have (in spite of the difference in cases), and that we is **not** the first repeated word as it is in a different sentence."
   ]
  },
  {
   "cell_type": "code",
   "execution_count": 5,
   "id": "6fef33a9-c497-4ff1-901f-f73d3d6c4bc4",
   "metadata": {},
   "outputs": [],
   "source": [
    "input_string = \"I think we had some fun. Have we have fun before:\" \n",
    "\n",
    "# \"have\" "
   ]
  },
  {
   "cell_type": "code",
   "execution_count": 3,
   "id": "a9f19bf5-d161-4b6b-bef9-f1469993ff07",
   "metadata": {},
   "outputs": [],
   "source": [
    "def firstRepeatedWord(sentence):\n",
    "    pass"
   ]
  },
  {
   "cell_type": "code",
   "execution_count": null,
   "id": "a1e2f795-bb3c-47b6-b339-c0d75c4380e4",
   "metadata": {},
   "outputs": [],
   "source": []
  }
 ],
 "metadata": {
  "kernelspec": {
   "display_name": "Python 3 (ipykernel)",
   "language": "python",
   "name": "python3"
  },
  "language_info": {
   "codemirror_mode": {
    "name": "ipython",
    "version": 3
   },
   "file_extension": ".py",
   "mimetype": "text/x-python",
   "name": "python",
   "nbconvert_exporter": "python",
   "pygments_lexer": "ipython3",
   "version": "3.10.6"
  }
 },
 "nbformat": 4,
 "nbformat_minor": 5
}
