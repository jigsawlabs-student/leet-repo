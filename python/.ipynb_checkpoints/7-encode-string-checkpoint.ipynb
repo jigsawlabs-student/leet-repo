{
 "cells": [
  {
   "cell_type": "markdown",
   "id": "d6e8d5b6-2606-4f80-8fd9-8e35e2cc1cc6",
   "metadata": {},
   "source": [
    "# Encoding a String"
   ]
  },
  {
   "cell_type": "markdown",
   "id": "42efd416-8261-40cc-b5b6-24c0152ddcc3",
   "metadata": {},
   "source": [
    "### Part One"
   ]
  },
  {
   "cell_type": "markdown",
   "id": "2fd30bc2-c823-4e99-b0c1-e4b6786db8e0",
   "metadata": {},
   "source": [
    "Write a function that can encode a string, indicating the number of times a letter repeats, and what that letter is.  For example, given the following string:"
   ]
  },
  {
   "cell_type": "code",
   "execution_count": null,
   "id": "63966656-149c-4e60-9743-deb2508d7017",
   "metadata": {},
   "outputs": [],
   "source": [
    "string1 = \"aabbcccdeeee\""
   ]
  },
  {
   "cell_type": "markdown",
   "id": "b968e4be-c966-4179-b396-05729936fcc8",
   "metadata": {},
   "source": [
    "We need to return the following:"
   ]
  },
  {
   "cell_type": "code",
   "execution_count": 1,
   "id": "d2bc1329-5698-4642-be75-f015d3970e48",
   "metadata": {},
   "outputs": [
    {
     "data": {
      "text/plain": [
       "'2a2b3c1d4e'"
      ]
     },
     "execution_count": 1,
     "metadata": {},
     "output_type": "execute_result"
    }
   ],
   "source": [
    "\"2a2b3c1d4e\""
   ]
  },
  {
   "cell_type": "code",
   "execution_count": 2,
   "id": "0576552d-0b25-438a-861c-ad8da3dc8f05",
   "metadata": {},
   "outputs": [],
   "source": [
    "def encode_string(string):\n",
    "    pass"
   ]
  }
 ],
 "metadata": {
  "kernelspec": {
   "display_name": "Python 3 (ipykernel)",
   "language": "python",
   "name": "python3"
  },
  "language_info": {
   "codemirror_mode": {
    "name": "ipython",
    "version": 3
   },
   "file_extension": ".py",
   "mimetype": "text/x-python",
   "name": "python",
   "nbconvert_exporter": "python",
   "pygments_lexer": "ipython3",
   "version": "3.10.6"
  }
 },
 "nbformat": 4,
 "nbformat_minor": 5
}
