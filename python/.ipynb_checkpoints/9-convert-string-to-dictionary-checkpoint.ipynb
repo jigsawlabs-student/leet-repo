{
 "cells": [
  {
   "cell_type": "markdown",
   "id": "baae939e-77a9-40d5-b6fd-6c2b813faaaf",
   "metadata": {},
   "source": [
    "# Convert a String to a dictionary"
   ]
  },
  {
   "cell_type": "markdown",
   "id": "880287a7-92e6-40fc-ac4e-194b2faa929e",
   "metadata": {},
   "source": [
    "### Introduction"
   ]
  },
  {
   "cell_type": "markdown",
   "id": "c1248ee2-6520-43f0-9e0d-bff672e4bba6",
   "metadata": {},
   "source": [
    "Given the following string, translate it into a dictionary."
   ]
  },
  {
   "cell_type": "code",
   "execution_count": 4,
   "id": "e8f5c730-b58e-4aa6-9acd-c14f9bf1fc4a",
   "metadata": {},
   "outputs": [],
   "source": [
    "input_string = \"cats:meow,dogs:bark,dogs:wag tail, squirrel:eat nuts\"\n",
    "\n",
    "output_dict = {'cats':'meow','dogs':'bark+wag tail','squirrel':'eat nuts'}"
   ]
  },
  {
   "cell_type": "code",
   "execution_count": 10,
   "id": "1bf646cc-1ffd-43b6-a6d9-659bcfa04b1e",
   "metadata": {},
   "outputs": [],
   "source": []
  },
  {
   "cell_type": "code",
   "execution_count": 12,
   "id": "3faaa91f-1bb7-4830-81d4-939cde40c3d0",
   "metadata": {},
   "outputs": [
    {
     "data": {
      "text/plain": [
       "{'cats': 'meow', 'dogs': 'bark+wag tail', ' squirrel': 'eat nuts'}"
      ]
     },
     "execution_count": 12,
     "metadata": {},
     "output_type": "execute_result"
    }
   ],
   "source": [
    "convert_to_dict(input_string)\n",
    "\n",
    "# {'cats': 'meow', 'dogs': 'bark+wag tail', ' squirrel': 'eat nuts'}"
   ]
  },
  {
   "cell_type": "code",
   "execution_count": null,
   "id": "e8f2d773-2366-408e-9f45-6359af7ec105",
   "metadata": {},
   "outputs": [],
   "source": []
  }
 ],
 "metadata": {
  "kernelspec": {
   "display_name": "Python 3 (ipykernel)",
   "language": "python",
   "name": "python3"
  },
  "language_info": {
   "codemirror_mode": {
    "name": "ipython",
    "version": 3
   },
   "file_extension": ".py",
   "mimetype": "text/x-python",
   "name": "python",
   "nbconvert_exporter": "python",
   "pygments_lexer": "ipython3",
   "version": "3.10.6"
  }
 },
 "nbformat": 4,
 "nbformat_minor": 5
}
