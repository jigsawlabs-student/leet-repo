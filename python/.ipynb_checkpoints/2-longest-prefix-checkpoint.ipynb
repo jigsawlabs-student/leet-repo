{
 "cells": [
  {
   "cell_type": "markdown",
   "id": "d81ad1f9-4785-4947-81bf-56898c6ed46a",
   "metadata": {},
   "source": [
    "# Longest Common Prefix"
   ]
  },
  {
   "cell_type": "markdown",
   "id": "b1c3d154-e80b-4cbe-9143-a3accc008bf5",
   "metadata": {},
   "source": [
    "* This is leetcode problem 14"
   ]
  },
  {
   "cell_type": "markdown",
   "id": "2027eba9-dc05-4999-b57d-13bb7e6a6524",
   "metadata": {},
   "source": [
    "Write a function to find the longest common prefix string amongst an array of strings.\n",
    "\n",
    "If there is no common prefix, return an empty string \"\""
   ]
  },
  {
   "cell_type": "code",
   "execution_count": 1,
   "id": "0baa7a23-3aa8-4f45-a3ac-7843c81eef7f",
   "metadata": {},
   "outputs": [],
   "source": [
    "strs = [\"flower\",\"flow\",\"flight\"]"
   ]
  },
  {
   "cell_type": "code",
   "execution_count": 2,
   "id": "0b98b340-fc30-4a53-a616-de40c724d347",
   "metadata": {},
   "outputs": [],
   "source": [
    "# fl"
   ]
  },
  {
   "cell_type": "code",
   "execution_count": 3,
   "id": "35ae8196-b44c-453f-a010-a9b53cb5852c",
   "metadata": {},
   "outputs": [],
   "source": [
    "strs_2 = [\"dog\",\"racecar\",\"car\"]\n",
    "# \"\""
   ]
  },
  {
   "cell_type": "code",
   "execution_count": null,
   "id": "6ac7c6b8-79a9-4f26-9d60-517aca93366d",
   "metadata": {},
   "outputs": [],
   "source": []
  }
 ],
 "metadata": {
  "kernelspec": {
   "display_name": "Python 3 (ipykernel)",
   "language": "python",
   "name": "python3"
  },
  "language_info": {
   "codemirror_mode": {
    "name": "ipython",
    "version": 3
   },
   "file_extension": ".py",
   "mimetype": "text/x-python",
   "name": "python",
   "nbconvert_exporter": "python",
   "pygments_lexer": "ipython3",
   "version": "3.10.6"
  }
 },
 "nbformat": 4,
 "nbformat_minor": 5
}
