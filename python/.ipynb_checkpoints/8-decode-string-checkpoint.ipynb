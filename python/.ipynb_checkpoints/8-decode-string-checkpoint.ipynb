{
 "cells": [
  {
   "cell_type": "markdown",
   "id": "b11ffead-04f9-4440-b900-390341ea64dd",
   "metadata": {},
   "source": [
    "# Decode a String"
   ]
  },
  {
   "cell_type": "markdown",
   "id": "44c135d1-62a4-47f9-a396-439429082f7a",
   "metadata": {},
   "source": [
    "### Introduction"
   ]
  },
  {
   "cell_type": "markdown",
   "id": "35d4c5ac-3bca-4419-823f-47032641ef3d",
   "metadata": {},
   "source": [
    "Given an encoded string like the following:"
   ]
  },
  {
   "cell_type": "code",
   "execution_count": 2,
   "id": "3d7af5a5-6c11-46bf-b234-ca93a3a04d93",
   "metadata": {},
   "outputs": [],
   "source": [
    "encoded_string = '2a2b3c1d4e'"
   ]
  },
  {
   "cell_type": "markdown",
   "id": "b1d422e0-48f3-410a-94c0-22a5bece2954",
   "metadata": {},
   "source": [
    "Produce the decoded version:"
   ]
  },
  {
   "cell_type": "code",
   "execution_count": 3,
   "id": "fd84306a-866f-4026-a50b-642b3de71c68",
   "metadata": {},
   "outputs": [
    {
     "data": {
      "text/plain": [
       "'aabbcccdeeee'"
      ]
     },
     "execution_count": 3,
     "metadata": {},
     "output_type": "execute_result"
    }
   ],
   "source": [
    "'aabbcccdeeee'"
   ]
  },
  {
   "cell_type": "code",
   "execution_count": null,
   "id": "b7773fcf-c8fb-4b44-8c36-36b1b3b0d3d5",
   "metadata": {},
   "outputs": [],
   "source": []
  }
 ],
 "metadata": {
  "kernelspec": {
   "display_name": "Python 3 (ipykernel)",
   "language": "python",
   "name": "python3"
  },
  "language_info": {
   "codemirror_mode": {
    "name": "ipython",
    "version": 3
   },
   "file_extension": ".py",
   "mimetype": "text/x-python",
   "name": "python",
   "nbconvert_exporter": "python",
   "pygments_lexer": "ipython3",
   "version": "3.10.6"
  }
 },
 "nbformat": 4,
 "nbformat_minor": 5
}
