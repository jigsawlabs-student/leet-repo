{
 "cells": [
  {
   "cell_type": "markdown",
   "id": "559787de-a94a-4d93-9027-f56dc9710e02",
   "metadata": {},
   "source": [
    "9. Palindrome Number\n",
    "\n",
    "Given an integer x, return true if x is a \n",
    "palindrome\n",
    ", and false otherwise."
   ]
  },
  {
   "cell_type": "code",
   "execution_count": 3,
   "id": "b53794f5-f1b9-4e1e-9b89-6f054b5ad284",
   "metadata": {},
   "outputs": [],
   "source": [
    "x = 121\n",
    "# True"
   ]
  },
  {
   "cell_type": "code",
   "execution_count": 4,
   "id": "32d2e187-fb0e-44c9-9a46-8b8fa4025f4a",
   "metadata": {},
   "outputs": [],
   "source": [
    "x = -121\n",
    "# False"
   ]
  },
  {
   "cell_type": "code",
   "execution_count": 5,
   "id": "948a3267-ecf9-4c45-bfb2-798334de6fc7",
   "metadata": {},
   "outputs": [],
   "source": [
    "x = 10\n",
    "# False"
   ]
  },
  {
   "cell_type": "code",
   "execution_count": null,
   "id": "d6ff538b-c02a-473a-8f60-634da1e51e25",
   "metadata": {},
   "outputs": [],
   "source": []
  }
 ],
 "metadata": {
  "kernelspec": {
   "display_name": "Python 3 (ipykernel)",
   "language": "python",
   "name": "python3"
  },
  "language_info": {
   "codemirror_mode": {
    "name": "ipython",
    "version": 3
   },
   "file_extension": ".py",
   "mimetype": "text/x-python",
   "name": "python",
   "nbconvert_exporter": "python",
   "pygments_lexer": "ipython3",
   "version": "3.10.6"
  }
 },
 "nbformat": 4,
 "nbformat_minor": 5
}
