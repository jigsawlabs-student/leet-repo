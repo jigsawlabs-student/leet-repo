{
 "cells": [
  {
   "cell_type": "markdown",
   "id": "6d35238b-e8b5-40d8-938b-e0eba4867a24",
   "metadata": {},
   "source": [
    "# How to do Leetcode Problems"
   ]
  },
  {
   "cell_type": "markdown",
   "id": "35ea444f-e50a-4b33-8000-fce3a0fa3a2e",
   "metadata": {},
   "source": [
    "When performing leetcode problems be sure to keep track of the problems you successfully answered, and ones that you struggled with.  You want to **keep track** of the those that you found difficult, and then come back to these problems later on.  You can do this in your trello board or any notetaking software.\n",
    "\n",
    "You also will want to determine what topic you struggled with.  Go beyond, SQL or Python -- is it working with strings or lists, or object orientation?  Even better is to diagnose how you worked through these problems and to adjust."
   ]
  },
  {
   "cell_type": "markdown",
   "id": "d54d6fee-98fa-47c0-a1ce-8074369bf220",
   "metadata": {},
   "source": [
    "### Practicing Leetcode"
   ]
  },
  {
   "cell_type": "markdown",
   "id": "7a858f9e-9f85-474c-8e92-77c42fab53ac",
   "metadata": {},
   "source": [
    "Remember that in an interview, leetcode style problems are often to be performed out loud.  You can use pramp or interviewing.io to practice working through leetcode problems with others."
   ]
  }
 ],
 "metadata": {
  "kernelspec": {
   "display_name": "Python 3 (ipykernel)",
   "language": "python",
   "name": "python3"
  },
  "language_info": {
   "codemirror_mode": {
    "name": "ipython",
    "version": 3
   },
   "file_extension": ".py",
   "mimetype": "text/x-python",
   "name": "python",
   "nbconvert_exporter": "python",
   "pygments_lexer": "ipython3",
   "version": "3.10.6"
  }
 },
 "nbformat": 4,
 "nbformat_minor": 5
}
