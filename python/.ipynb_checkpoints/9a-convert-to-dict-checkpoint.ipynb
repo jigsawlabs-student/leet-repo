{
 "cells": [
  {
   "cell_type": "markdown",
   "id": "0c838160-6cd4-433c-944f-1668dce37964",
   "metadata": {},
   "source": [
    "# Convert to Dictionary"
   ]
  },
  {
   "cell_type": "markdown",
   "id": "df77e437-485c-491f-acec-5d5dcd944260",
   "metadata": {},
   "source": [
    "### Solution"
   ]
  },
  {
   "cell_type": "code",
   "execution_count": null,
   "id": "5128d13c-7541-4c69-96fe-5fc546202461",
   "metadata": {},
   "outputs": [],
   "source": [
    "def convert_to_dict(input_string):\n",
    "    animal_sounds = input_string.split(\",\")\n",
    "    output_dict = {}\n",
    "    for animal_sound in animal_sounds:\n",
    "        animal, sound = animal_sound.split(\":\")\n",
    "        if output_dict.get(animal): \n",
    "            output_dict[animal] = output_dict[animal] + '+' + sound\n",
    "        else:\n",
    "            output_dict[animal] = sound\n",
    "    return output_dict"
   ]
  }
 ],
 "metadata": {
  "kernelspec": {
   "display_name": "Python 3 (ipykernel)",
   "language": "python",
   "name": "python3"
  },
  "language_info": {
   "codemirror_mode": {
    "name": "ipython",
    "version": 3
   },
   "file_extension": ".py",
   "mimetype": "text/x-python",
   "name": "python",
   "nbconvert_exporter": "python",
   "pygments_lexer": "ipython3",
   "version": "3.10.6"
  }
 },
 "nbformat": 4,
 "nbformat_minor": 5
}
