{
 "cells": [
  {
   "cell_type": "code",
   "execution_count": null,
   "id": "c991a895-783a-4dd5-8280-f4b74b3c3332",
   "metadata": {},
   "outputs": [],
   "source": []
  },
  {
   "cell_type": "code",
   "execution_count": 1,
   "id": "b5c13be8-04e5-42f3-be27-29825a887ad4",
   "metadata": {},
   "outputs": [],
   "source": [
    "string1 = \"aabbcccdeeee\""
   ]
  },
  {
   "cell_type": "code",
   "execution_count": 9,
   "id": "08ecb497-1f05-42e9-8d6e-78e284bc39a7",
   "metadata": {},
   "outputs": [],
   "source": [
    "letter_collections = [ ]\n",
    "for idx in range(len(string1) -1):\n",
    "    current_letter = string1[idx]\n",
    "    previous_letter = string1[idx - 1]\n",
    "    if idx == 0 or current_letter != previous_letter:\n",
    "        letter_collections.append([current_letter])\n",
    "    if current_letter == previous_letter:\n",
    "        letter_collections[-1].append(current_letter)\n",
    "encoded_string = \"\"    \n",
    "for letter_collection in letter_collections:\n",
    "    encoded_string += f\"{len(letter_collection)}{letter_collection[0]}\""
   ]
  },
  {
   "cell_type": "code",
   "execution_count": 10,
   "id": "aebcfaf0-a7fd-4093-a384-c0a49f4d8a8d",
   "metadata": {},
   "outputs": [
    {
     "data": {
      "text/plain": [
       "'2a2b3c1d3e'"
      ]
     },
     "execution_count": 10,
     "metadata": {},
     "output_type": "execute_result"
    }
   ],
   "source": [
    "encoded_string"
   ]
  },
  {
   "cell_type": "markdown",
   "id": "fcf08efd-fdc4-49f5-9be6-51c6a1fccedd",
   "metadata": {},
   "source": [
    "Here you can see that we performed this in two steps.  The first step is to create a list of letter collections."
   ]
  },
  {
   "cell_type": "code",
   "execution_count": 12,
   "id": "8e5f678c-ec10-4b62-9bb7-feb4f137958e",
   "metadata": {},
   "outputs": [],
   "source": [
    "# [['a', 'a'], ['b', 'b'], ['c', 'c', 'c'], ['d'], ['e', 'e', 'e']]"
   ]
  },
  {
   "cell_type": "markdown",
   "id": "9e8ef54e-cab3-46b8-8009-2c311d056a27",
   "metadata": {},
   "source": [
    "From there, we can go through each letter collection calculating the length of each list, and the letter that the list consists of."
   ]
  },
  {
   "cell_type": "code",
   "execution_count": null,
   "id": "03839a5a-01f8-4ae7-8623-15c565c0e022",
   "metadata": {},
   "outputs": [],
   "source": []
  }
 ],
 "metadata": {
  "kernelspec": {
   "display_name": "Python 3 (ipykernel)",
   "language": "python",
   "name": "python3"
  },
  "language_info": {
   "codemirror_mode": {
    "name": "ipython",
    "version": 3
   },
   "file_extension": ".py",
   "mimetype": "text/x-python",
   "name": "python",
   "nbconvert_exporter": "python",
   "pygments_lexer": "ipython3",
   "version": "3.10.6"
  }
 },
 "nbformat": 4,
 "nbformat_minor": 5
}
