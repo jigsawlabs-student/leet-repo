{
 "cells": [
  {
   "cell_type": "markdown",
   "id": "01d6db2d-6d1c-4fcf-b095-b8a195fd57b1",
   "metadata": {},
   "source": [
    "# Number of Calls Between"
   ]
  },
  {
   "cell_type": "markdown",
   "id": "edd5dfaf-b0f7-4b79-be02-41370c54a368",
   "metadata": {},
   "source": [
    "* Leetcode 1699 Number of Calls Between Two Persons"
   ]
  },
  {
   "cell_type": "markdown",
   "id": "8e3ba3d7-5c5c-4277-975a-76d4efb75e6d",
   "metadata": {},
   "source": [
    "Write an SQL query to report the number of calls and the total call duration between each pair of distinct persons (person1, person2) where person1 < person2.\n",
    "\n",
    "Return the result table in any order.\n",
    "\n",
    "The query result format is in the following example."
   ]
  },
  {
   "cell_type": "markdown",
   "id": "3b8e1e5d-03d3-4606-95ea-1f943215e798",
   "metadata": {},
   "source": [
    "### Loading the Data"
   ]
  },
  {
   "cell_type": "code",
   "execution_count": 3,
   "id": "6f93f69e-9130-4692-bb4c-c8a0d797d9be",
   "metadata": {},
   "outputs": [],
   "source": [
    "import sqlite3\n",
    "\n",
    "conn = sqlite3.connect('crm.db')\n",
    "\n",
    "def build_dataframe(data):\n",
    "    columns = data['headers']\n",
    "    values = data['values']\n",
    "    df = pd.DataFrame(values)\n",
    "    df.columns = columns\n",
    "    return df"
   ]
  },
  {
   "cell_type": "code",
   "execution_count": 7,
   "id": "71437902-2463-4f26-9557-18081a7c7a69",
   "metadata": {},
   "outputs": [],
   "source": [
    "values = [\n",
    "    {\"from_id\": \"1\", \"to_id\": \"2\", \"duration\": \"59\"\n",
    "    }, {\"from_id\": \"2\", \"to_id\": \"1\", \"duration\": \"11\"\n",
    "    },{\"from_id\": \"1\",\n",
    "        \"to_id\": \"3\", \"duration\": \"20\"},\n",
    "    {\"from_id\": \"3\", \"to_id\": \"4\", \"duration\": \"100\"},\n",
    "    {\"from_id\": \"3\", \"to_id\": \"4\",\"duration\": \"200\"\n",
    "    },\n",
    "    {\"from_id\": \"3\", \"to_id\": \"4\", \"duration\": \"200\"\n",
    "    },\n",
    "    {\"from_id\": \"4\", \"to_id\": \"3\", \"duration\": \"499\"}]"
   ]
  },
  {
   "cell_type": "code",
   "execution_count": 9,
   "id": "861bc32e-6dd2-4e42-a0cd-74943366f181",
   "metadata": {},
   "outputs": [
    {
     "data": {
      "text/plain": [
       "7"
      ]
     },
     "execution_count": 9,
     "metadata": {},
     "output_type": "execute_result"
    }
   ],
   "source": [
    "import pandas as pd\n",
    "data = {\"headers\": [\"from_id\", \"to_id\", \"duration\"], \"values\": values}\n",
    "\n",
    "df = build_dataframe(data)\n",
    "\n",
    "df.to_sql('calls', conn, if_exists = 'replace', index = False)"
   ]
  },
  {
   "cell_type": "code",
   "execution_count": 10,
   "id": "9e6e5b65-e718-4ea9-8e78-aca29b83ada9",
   "metadata": {},
   "outputs": [
    {
     "data": {
      "text/html": [
       "<div>\n",
       "<style scoped>\n",
       "    .dataframe tbody tr th:only-of-type {\n",
       "        vertical-align: middle;\n",
       "    }\n",
       "\n",
       "    .dataframe tbody tr th {\n",
       "        vertical-align: top;\n",
       "    }\n",
       "\n",
       "    .dataframe thead th {\n",
       "        text-align: right;\n",
       "    }\n",
       "</style>\n",
       "<table border=\"1\" class=\"dataframe\">\n",
       "  <thead>\n",
       "    <tr style=\"text-align: right;\">\n",
       "      <th></th>\n",
       "      <th>from_id</th>\n",
       "      <th>to_id</th>\n",
       "      <th>duration</th>\n",
       "    </tr>\n",
       "  </thead>\n",
       "  <tbody>\n",
       "    <tr>\n",
       "      <th>0</th>\n",
       "      <td>1</td>\n",
       "      <td>2</td>\n",
       "      <td>59</td>\n",
       "    </tr>\n",
       "    <tr>\n",
       "      <th>1</th>\n",
       "      <td>2</td>\n",
       "      <td>1</td>\n",
       "      <td>11</td>\n",
       "    </tr>\n",
       "    <tr>\n",
       "      <th>2</th>\n",
       "      <td>1</td>\n",
       "      <td>3</td>\n",
       "      <td>20</td>\n",
       "    </tr>\n",
       "    <tr>\n",
       "      <th>3</th>\n",
       "      <td>3</td>\n",
       "      <td>4</td>\n",
       "      <td>100</td>\n",
       "    </tr>\n",
       "    <tr>\n",
       "      <th>4</th>\n",
       "      <td>3</td>\n",
       "      <td>4</td>\n",
       "      <td>200</td>\n",
       "    </tr>\n",
       "    <tr>\n",
       "      <th>5</th>\n",
       "      <td>3</td>\n",
       "      <td>4</td>\n",
       "      <td>200</td>\n",
       "    </tr>\n",
       "    <tr>\n",
       "      <th>6</th>\n",
       "      <td>4</td>\n",
       "      <td>3</td>\n",
       "      <td>499</td>\n",
       "    </tr>\n",
       "  </tbody>\n",
       "</table>\n",
       "</div>"
      ],
      "text/plain": [
       "  from_id to_id duration\n",
       "0       1     2       59\n",
       "1       2     1       11\n",
       "2       1     3       20\n",
       "3       3     4      100\n",
       "4       3     4      200\n",
       "5       3     4      200\n",
       "6       4     3      499"
      ]
     },
     "execution_count": 10,
     "metadata": {},
     "output_type": "execute_result"
    }
   ],
   "source": [
    "pd.read_sql('select * from calls', conn)"
   ]
  },
  {
   "cell_type": "markdown",
   "id": "cd30e7a6-bbd9-491f-bffa-ef6cf05bcb65",
   "metadata": {},
   "source": [
    "### The problem"
   ]
  },
  {
   "cell_type": "markdown",
   "id": "16b4fd48-9430-461a-a035-5a20683fccea",
   "metadata": {},
   "source": [
    "Write an SQL query to report the number of calls and the total call duration between each pair of distinct persons (person1, person2) where person1 < person2.\n",
    "\n",
    "Return the result table in any order.\n",
    "\n",
    "The query result format is in the following example."
   ]
  },
  {
   "cell_type": "markdown",
   "id": "b4bff6cc-b836-4c3a-8c61-9526d757aaf5",
   "metadata": {},
   "source": [
    "```\n",
    "+---------+---------+------------+----------------+\n",
    "| person1 | person2 | call_count | total_duration |\n",
    "+---------+---------+------------+----------------+\n",
    "| 1       | 2       | 2          | 70             |\n",
    "| 1       | 3       | 1          | 20             |\n",
    "| 3       | 4       | 4          | 999            |\n",
    "+---------+---------+------------+----------------+\n",
    "```"
   ]
  },
  {
   "cell_type": "code",
   "execution_count": null,
   "id": "6aea739b-f7ba-437f-b352-66952a6767bd",
   "metadata": {},
   "outputs": [],
   "source": []
  }
 ],
 "metadata": {
  "kernelspec": {
   "display_name": "Python 3 (ipykernel)",
   "language": "python",
   "name": "python3"
  },
  "language_info": {
   "codemirror_mode": {
    "name": "ipython",
    "version": 3
   },
   "file_extension": ".py",
   "mimetype": "text/x-python",
   "name": "python",
   "nbconvert_exporter": "python",
   "pygments_lexer": "ipython3",
   "version": "3.10.6"
  }
 },
 "nbformat": 4,
 "nbformat_minor": 5
}
