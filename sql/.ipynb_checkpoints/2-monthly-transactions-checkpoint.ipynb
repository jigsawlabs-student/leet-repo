{
 "cells": [
  {
   "cell_type": "markdown",
   "id": "7dc5dce9-9573-4d6b-b1bd-7bdf111bb2ae",
   "metadata": {},
   "source": [
    "# Monthly Transactions"
   ]
  },
  {
   "cell_type": "markdown",
   "id": "21316fbb-87b9-4df2-8124-8f133b78c74b",
   "metadata": {},
   "source": [
    "Write an SQL query to find for each month and country, the number of transactions and their total amount, the number of approved transactions and their total amount.\n",
    "\n",
    "Return the result table in any order.\n",
    "\n",
    "The query result format is in the following example."
   ]
  },
  {
   "cell_type": "markdown",
   "id": "e9d5f3b5-de90-44c7-a0ac-b3d70bfac27a",
   "metadata": {},
   "source": [
    "### Loading the Data"
   ]
  },
  {
   "cell_type": "code",
   "execution_count": 5,
   "id": "cc59764a-5f93-4e93-88d7-7df677340ba0",
   "metadata": {},
   "outputs": [
    {
     "data": {
      "text/html": [
       "<div>\n",
       "<style scoped>\n",
       "    .dataframe tbody tr th:only-of-type {\n",
       "        vertical-align: middle;\n",
       "    }\n",
       "\n",
       "    .dataframe tbody tr th {\n",
       "        vertical-align: top;\n",
       "    }\n",
       "\n",
       "    .dataframe thead th {\n",
       "        text-align: right;\n",
       "    }\n",
       "</style>\n",
       "<table border=\"1\" class=\"dataframe\">\n",
       "  <thead>\n",
       "    <tr style=\"text-align: right;\">\n",
       "      <th></th>\n",
       "      <th>id</th>\n",
       "      <th>country</th>\n",
       "      <th>state</th>\n",
       "      <th>amount</th>\n",
       "      <th>trans_date</th>\n",
       "    </tr>\n",
       "  </thead>\n",
       "  <tbody>\n",
       "    <tr>\n",
       "      <th>0</th>\n",
       "      <td>121</td>\n",
       "      <td>US</td>\n",
       "      <td>approved</td>\n",
       "      <td>1000</td>\n",
       "      <td>2018-12-18</td>\n",
       "    </tr>\n",
       "    <tr>\n",
       "      <th>1</th>\n",
       "      <td>122</td>\n",
       "      <td>US</td>\n",
       "      <td>declined</td>\n",
       "      <td>2000</td>\n",
       "      <td>2018-12-19</td>\n",
       "    </tr>\n",
       "    <tr>\n",
       "      <th>2</th>\n",
       "      <td>123</td>\n",
       "      <td>US</td>\n",
       "      <td>approved</td>\n",
       "      <td>2000</td>\n",
       "      <td>2019-01-01</td>\n",
       "    </tr>\n",
       "    <tr>\n",
       "      <th>3</th>\n",
       "      <td>124</td>\n",
       "      <td>DE</td>\n",
       "      <td>approved</td>\n",
       "      <td>2000</td>\n",
       "      <td>2019-01-07</td>\n",
       "    </tr>\n",
       "  </tbody>\n",
       "</table>\n",
       "</div>"
      ],
      "text/plain": [
       "    id country     state  amount trans_date\n",
       "0  121      US  approved    1000 2018-12-18\n",
       "1  122      US  declined    2000 2018-12-19\n",
       "2  123      US  approved    2000 2019-01-01\n",
       "3  124      DE  approved    2000 2019-01-07"
      ]
     },
     "execution_count": 5,
     "metadata": {},
     "output_type": "execute_result"
    }
   ],
   "source": [
    "import sqlite3\n",
    "\n",
    "conn = sqlite3.connect('crm.db')\n",
    "\n",
    "def build_dataframe(data):\n",
    "    columns = data['headers']\n",
    "    values = data['values']\n",
    "    df = pd.DataFrame(values)\n",
    "    df.columns = columns\n",
    "    return df\n",
    "\n",
    "values = [\n",
    "    {\n",
    "        \"id\": 121,\n",
    "        \"country\": \"US\",\n",
    "        \"state\": \"approved\",\n",
    "        \"amount\": 1000,\n",
    "        \"trans_date\": \"2018-12-18\"\n",
    "    },\n",
    "    {\n",
    "        \"id\": 122,\n",
    "        \"country\": \"US\",\n",
    "        \"state\": \"declined\",\n",
    "        \"amount\": 2000,\n",
    "        \"trans_date\": \"2018-12-19\"\n",
    "    },\n",
    "    {\n",
    "        \"id\": 123,\n",
    "        \"country\": \"US\",\n",
    "        \"state\": \"approved\",\n",
    "        \"amount\": 2000,\n",
    "        \"trans_date\": \"2019-01-01\"\n",
    "    },\n",
    "    {\n",
    "        \"id\": 124,\n",
    "        \"country\": \"DE\",\n",
    "        \"state\": \"approved\",\n",
    "        \"amount\": 2000,\n",
    "        \"trans_date\": \"2019-01-07\"\n",
    "    }\n",
    "]\n",
    "\n",
    "import pandas as pd\n",
    "data = {\"headers\": [\"id\", \"country\", \"state\", \"amount\", \"trans_date\"], \"values\": values}\n",
    "\n",
    "df = build_dataframe(data)\n",
    "trans_date = pd.to_datetime(df['trans_date'])\n",
    "df.assign(trans_date = trans_date)"
   ]
  },
  {
   "cell_type": "code",
   "execution_count": 6,
   "id": "bb46880f-4790-4dbb-bbfb-cb5c216cd9b6",
   "metadata": {},
   "outputs": [
    {
     "data": {
      "text/plain": [
       "4"
      ]
     },
     "execution_count": 6,
     "metadata": {},
     "output_type": "execute_result"
    }
   ],
   "source": [
    "df.to_sql('transactions', conn, \n",
    "          if_exists = 'replace', index = False)"
   ]
  },
  {
   "cell_type": "code",
   "execution_count": 8,
   "id": "1b7f15d5-94dd-4e15-b682-90a73797d6cb",
   "metadata": {},
   "outputs": [
    {
     "data": {
      "text/html": [
       "<div>\n",
       "<style scoped>\n",
       "    .dataframe tbody tr th:only-of-type {\n",
       "        vertical-align: middle;\n",
       "    }\n",
       "\n",
       "    .dataframe tbody tr th {\n",
       "        vertical-align: top;\n",
       "    }\n",
       "\n",
       "    .dataframe thead th {\n",
       "        text-align: right;\n",
       "    }\n",
       "</style>\n",
       "<table border=\"1\" class=\"dataframe\">\n",
       "  <thead>\n",
       "    <tr style=\"text-align: right;\">\n",
       "      <th></th>\n",
       "      <th>id</th>\n",
       "      <th>country</th>\n",
       "      <th>state</th>\n",
       "      <th>amount</th>\n",
       "      <th>trans_date</th>\n",
       "    </tr>\n",
       "  </thead>\n",
       "  <tbody>\n",
       "    <tr>\n",
       "      <th>0</th>\n",
       "      <td>121</td>\n",
       "      <td>US</td>\n",
       "      <td>approved</td>\n",
       "      <td>1000</td>\n",
       "      <td>2018-12-18</td>\n",
       "    </tr>\n",
       "    <tr>\n",
       "      <th>1</th>\n",
       "      <td>122</td>\n",
       "      <td>US</td>\n",
       "      <td>declined</td>\n",
       "      <td>2000</td>\n",
       "      <td>2018-12-19</td>\n",
       "    </tr>\n",
       "    <tr>\n",
       "      <th>2</th>\n",
       "      <td>123</td>\n",
       "      <td>US</td>\n",
       "      <td>approved</td>\n",
       "      <td>2000</td>\n",
       "      <td>2019-01-01</td>\n",
       "    </tr>\n",
       "    <tr>\n",
       "      <th>3</th>\n",
       "      <td>124</td>\n",
       "      <td>DE</td>\n",
       "      <td>approved</td>\n",
       "      <td>2000</td>\n",
       "      <td>2019-01-07</td>\n",
       "    </tr>\n",
       "  </tbody>\n",
       "</table>\n",
       "</div>"
      ],
      "text/plain": [
       "    id country     state  amount  trans_date\n",
       "0  121      US  approved    1000  2018-12-18\n",
       "1  122      US  declined    2000  2018-12-19\n",
       "2  123      US  approved    2000  2019-01-01\n",
       "3  124      DE  approved    2000  2019-01-07"
      ]
     },
     "execution_count": 8,
     "metadata": {},
     "output_type": "execute_result"
    }
   ],
   "source": [
    "pd.read_sql(\"select * from transactions\", conn)"
   ]
  },
  {
   "cell_type": "markdown",
   "id": "06fd049d-8f89-4c16-9c4b-975bb5f5fdac",
   "metadata": {},
   "source": [
    "### The Problem"
   ]
  },
  {
   "cell_type": "markdown",
   "id": "ddd8d772-7c62-428a-8af8-bb75e09aebfa",
   "metadata": {},
   "source": [
    "Write an SQL query to find for each month and country, the number of transactions and their total amount, the number of approved transactions and their total amount.\n",
    "\n",
    "Return the result table in any order.\n",
    "\n",
    "The answer is below."
   ]
  },
  {
   "cell_type": "markdown",
   "id": "6fac9729-eabe-4902-a3f8-0c2746f1498a",
   "metadata": {},
   "source": [
    "<img src=\"./approved_amount.png\" width=\"100%\">"
   ]
  }
 ],
 "metadata": {
  "kernelspec": {
   "display_name": "Python 3 (ipykernel)",
   "language": "python",
   "name": "python3"
  },
  "language_info": {
   "codemirror_mode": {
    "name": "ipython",
    "version": 3
   },
   "file_extension": ".py",
   "mimetype": "text/x-python",
   "name": "python",
   "nbconvert_exporter": "python",
   "pygments_lexer": "ipython3",
   "version": "3.10.6"
  }
 },
 "nbformat": 4,
 "nbformat_minor": 5
}
