{
 "cells": [
  {
   "cell_type": "markdown",
   "id": "be7cf963-2e17-447d-b0f6-f0a3719a0987",
   "metadata": {},
   "source": [
    "# Gameplay Problems"
   ]
  },
  {
   "cell_type": "markdown",
   "id": "150d33fd-6563-4c30-a054-fc83ecee620e",
   "metadata": {},
   "source": [
    "### Loading the Data"
   ]
  },
  {
   "cell_type": "code",
   "execution_count": 1,
   "id": "32ca432f-abfb-45a5-aeb8-2fb01186d659",
   "metadata": {},
   "outputs": [],
   "source": [
    "import pandas as pd\n",
    "url = 'https://raw.githubusercontent.com/tech-interviews-jigsaw/leet-repo/main/sql/1-window-functions/player_events.csv'\n",
    "df = pd.read_csv(url, index_col = 0)"
   ]
  },
  {
   "cell_type": "code",
   "execution_count": 26,
   "id": "57b47029-0476-489d-b345-ccb48a0d6a38",
   "metadata": {},
   "outputs": [],
   "source": [
    "import pandas as pd\n",
    "from sqlalchemy import create_engine\n",
    "engine = create_engine('postgresql://@localhost:5432/sql_interviews')\n",
    "\n",
    "def insert_data(df, engine):\n",
    "    df.to_sql('player_events', engine, if_exists = 'replace')\n",
    "    # return df\n"
   ]
  },
  {
   "cell_type": "markdown",
   "id": "be8b53db-1c77-40aa-805d-02fab1a4a561",
   "metadata": {},
   "source": [
    "* If you have not already, create a database called sql_interviews in the postgres database. "
   ]
  },
  {
   "cell_type": "code",
   "execution_count": 27,
   "id": "8a600ae0-3ff1-4fbf-9f10-8ac7ba847275",
   "metadata": {},
   "outputs": [],
   "source": [
    "insert_data(df, engine)"
   ]
  },
  {
   "cell_type": "markdown",
   "id": "96dba955-f2fc-4de9-a414-c91b789414b5",
   "metadata": {},
   "source": [
    "### Problem 1"
   ]
  },
  {
   "cell_type": "markdown",
   "id": "2ce0eab3-0c9d-4939-9247-64fb04ca0734",
   "metadata": {},
   "source": [
    "Write an SQL query to report the first login date for each player.\n",
    "\n",
    "Return the result table in any order.\n",
    "\n",
    "The query result format is in the following example."
   ]
  },
  {
   "cell_type": "code",
   "execution_count": 29,
   "id": "cdca39d6-588b-4f24-a2a2-9ced7258c835",
   "metadata": {},
   "outputs": [
    {
     "data": {
      "text/html": [
       "<div>\n",
       "<style scoped>\n",
       "    .dataframe tbody tr th:only-of-type {\n",
       "        vertical-align: middle;\n",
       "    }\n",
       "\n",
       "    .dataframe tbody tr th {\n",
       "        vertical-align: top;\n",
       "    }\n",
       "\n",
       "    .dataframe thead th {\n",
       "        text-align: right;\n",
       "    }\n",
       "</style>\n",
       "<table border=\"1\" class=\"dataframe\">\n",
       "  <thead>\n",
       "    <tr style=\"text-align: right;\">\n",
       "      <th></th>\n",
       "      <th>index</th>\n",
       "      <th>player_id</th>\n",
       "      <th>device_id</th>\n",
       "      <th>event_date</th>\n",
       "      <th>games_played</th>\n",
       "    </tr>\n",
       "  </thead>\n",
       "  <tbody>\n",
       "    <tr>\n",
       "      <th>0</th>\n",
       "      <td>0</td>\n",
       "      <td>1</td>\n",
       "      <td>2</td>\n",
       "      <td>2016-03-01</td>\n",
       "      <td>5</td>\n",
       "    </tr>\n",
       "    <tr>\n",
       "      <th>1</th>\n",
       "      <td>1</td>\n",
       "      <td>1</td>\n",
       "      <td>2</td>\n",
       "      <td>2016-05-02</td>\n",
       "      <td>6</td>\n",
       "    </tr>\n",
       "    <tr>\n",
       "      <th>2</th>\n",
       "      <td>2</td>\n",
       "      <td>2</td>\n",
       "      <td>3</td>\n",
       "      <td>2017-06-25</td>\n",
       "      <td>1</td>\n",
       "    </tr>\n",
       "    <tr>\n",
       "      <th>3</th>\n",
       "      <td>3</td>\n",
       "      <td>3</td>\n",
       "      <td>1</td>\n",
       "      <td>2016-03-02</td>\n",
       "      <td>0</td>\n",
       "    </tr>\n",
       "    <tr>\n",
       "      <th>4</th>\n",
       "      <td>4</td>\n",
       "      <td>3</td>\n",
       "      <td>4</td>\n",
       "      <td>2018-07-03</td>\n",
       "      <td>5</td>\n",
       "    </tr>\n",
       "  </tbody>\n",
       "</table>\n",
       "</div>"
      ],
      "text/plain": [
       "   index  player_id  device_id  event_date  games_played\n",
       "0      0          1          2  2016-03-01             5\n",
       "1      1          1          2  2016-05-02             6\n",
       "2      2          2          3  2017-06-25             1\n",
       "3      3          3          1  2016-03-02             0\n",
       "4      4          3          4  2018-07-03             5"
      ]
     },
     "execution_count": 29,
     "metadata": {},
     "output_type": "execute_result"
    }
   ],
   "source": [
    "pd.read_sql(\"\"\"select * from player_events\"\"\", engine)"
   ]
  },
  {
   "cell_type": "markdown",
   "id": "21443b5d-55de-44f2-a7ee-23f15ce5f260",
   "metadata": {},
   "source": [
    "* Result"
   ]
  },
  {
   "cell_type": "markdown",
   "id": "e898ef31-727e-4a83-982c-fce855751a99",
   "metadata": {},
   "source": [
    "| player_id | first_login |\n",
    "| --------- | ----------- |\n",
    "| 1         | 2016-03-01  |\n",
    "| 2         | 2017-06-25  |\n",
    "| 3         | 2016-03-02  |"
   ]
  },
  {
   "cell_type": "markdown",
   "id": "61d6fba6-4170-491e-a5e2-4b67e55bb2a2",
   "metadata": {},
   "source": [
    "### Problem 2\n",
    "\n",
    "Write an SQL query to report the device that is first logged in for each player.\n",
    "\n",
    "Return the result table in any order.\n",
    "\n",
    "The query result format is in the following example."
   ]
  },
  {
   "cell_type": "code",
   "execution_count": 30,
   "id": "ded87206-aa2f-4a4a-aee4-7f05b2fbfb43",
   "metadata": {},
   "outputs": [],
   "source": [
    "# pd.read_sql(\"\"\"select * from player_events\"\"\", engine)"
   ]
  },
  {
   "cell_type": "markdown",
   "id": "c9512a5b-b945-4f39-8295-7230d429fe42",
   "metadata": {},
   "source": [
    "### Expected Result"
   ]
  },
  {
   "cell_type": "markdown",
   "id": "75d605db-bb51-4a99-a2a4-9694b35a7456",
   "metadata": {},
   "source": [
    "| player_id | device_id |\n",
    "| --------- | --------- |\n",
    "| 1         | 2         |\n",
    "| 2         | 3         |\n",
    "| 3         | 1         |"
   ]
  },
  {
   "cell_type": "markdown",
   "id": "0be09aa5-dc56-4f32-bc49-4f271670155c",
   "metadata": {},
   "source": [
    "### Problem 3 Description"
   ]
  },
  {
   "cell_type": "markdown",
   "id": "efb4e0a0-712c-4f07-b50b-36ac3fab3a68",
   "metadata": {},
   "source": [
    "Write an SQL query to report for each player and date, how many games played so far by the player. That is, the total number of games played by the player until that date. Check the example for clarity.\n",
    "\n",
    "Return the result table in any order.\n",
    "\n",
    "The query result format is in the following example."
   ]
  },
  {
   "cell_type": "code",
   "execution_count": null,
   "id": "a874a345-7e5f-4d5f-bb4e-e701feef6fb7",
   "metadata": {},
   "outputs": [],
   "source": [
    "# pd.read_sql(\"\"\"select * from player_events\"\"\", engine)"
   ]
  },
  {
   "cell_type": "markdown",
   "id": "94a23c17-7275-4572-a789-4faf977db1b8",
   "metadata": {},
   "source": [
    "* Result"
   ]
  },
  {
   "cell_type": "markdown",
   "id": "a1fb9493-e058-48ff-a8d6-573d2f7ce11b",
   "metadata": {},
   "source": [
    "| player_id | event_date | games_played_so_far |\n",
    "| --------- | ---------- | ------------------- |\n",
    "| 1         | 2017-06-25 | 12                  |\n",
    "| 1         | 2016-05-02 | 11                  |\n",
    "| 1         | 2016-03-01 | 5                   |\n",
    "| 3         | 2018-07-03 | 5                   |\n",
    "| 3         | 2016-03-02 | 0                   |"
   ]
  },
  {
   "cell_type": "markdown",
   "id": "fc4fb5c1-391c-41c2-9e0c-91c5466a8a94",
   "metadata": {},
   "source": [
    "### Problem 4"
   ]
  },
  {
   "cell_type": "markdown",
   "id": "a9fa3b3e-c706-4dcb-bb5d-9b9257383471",
   "metadata": {},
   "source": [
    "Write an SQL query to report the fraction of players that logged in again on the day after the day they first logged in, rounded to 2 decimal places. In other words, you need to count the number of players that logged in for at least two consecutive days starting from their first login date, then divide that number by the total number of players.\n",
    "\n",
    "The query result format is in the following example."
   ]
  },
  {
   "cell_type": "code",
   "execution_count": 31,
   "id": "1ede1330-032c-4b4d-9ffb-7efed73499ac",
   "metadata": {},
   "outputs": [],
   "source": [
    "# pd.read_sql(\"\"\"select * from player_events\"\"\", engine)"
   ]
  },
  {
   "cell_type": "markdown",
   "id": "c16f456d-cd3c-4065-8dc1-439bb8c51377",
   "metadata": {},
   "source": [
    "Output: \n",
    "| fraction |\n",
    "| -------- |\n",
    "| 0.33     |\n",
    "\n",
    "\n",
    "Explanation: \n",
    "Only the player with id 1 logged back in after the first day he had logged in so the answer is 1/3 = 0.33"
   ]
  },
  {
   "cell_type": "markdown",
   "id": "4aad7c73-ebec-47f6-8b40-507439dbab63",
   "metadata": {},
   "source": [
    "### Problem 5 - SQL Hard"
   ]
  },
  {
   "cell_type": "markdown",
   "id": "e31eebe8-4d93-4dbc-a9e3-aa7d05125927",
   "metadata": {},
   "source": [
    "The install date of a player is the first login day of that player.\n",
    "\n",
    "We define day one retention of some date x to be the number of players whose install date is x and they logged back in on the day right after x, divided by the number of players whose install date is x, rounded to 2 decimal places.\n",
    "\n",
    "Write an SQL query to report for each install date, the number of players that installed the game on that day, and the day one retention.\n",
    "\n",
    "Return the result table in any order.\n",
    "\n",
    "The query result format is in the following example."
   ]
  },
  {
   "cell_type": "code",
   "execution_count": null,
   "id": "9ba64572-38da-440e-af21-fac61bc3dda7",
   "metadata": {},
   "outputs": [],
   "source": [
    "# pd.read_sql(\"\"\"select * from player_events\"\"\", engine)"
   ]
  },
  {
   "cell_type": "markdown",
   "id": "860713db-8c64-4df0-8c96-9e37e4a5a189",
   "metadata": {},
   "source": [
    "* Result\n",
    "\n",
    "| install_dt | installs | Day1_retention |\n",
    "| ---------- | -------- | -------------- |\n",
    "| 2016-03-01 | 2        | 0.5            |\n",
    "| 2017-06-25 | 1        | 0              |\n",
    "\n",
    "\n",
    "Player 1 and 3 installed the game on 2016-03-01 but only player 1 logged back in on 2016-03-02 so the day 1 retention of 2016-03-01 is 1 / 2 = 0.50\n",
    "Player 2 installed the game on 2017-06-25 but didn't log back in on 2017-06-26 so the day 1 retention of 2017-06-25 is 0 / 1 = 0.00"
   ]
  }
 ],
 "metadata": {
  "kernelspec": {
   "display_name": "Python 3 (ipykernel)",
   "language": "python",
   "name": "python3"
  },
  "language_info": {
   "codemirror_mode": {
    "name": "ipython",
    "version": 3
   },
   "file_extension": ".py",
   "mimetype": "text/x-python",
   "name": "python",
   "nbconvert_exporter": "python",
   "pygments_lexer": "ipython3",
   "version": "3.10.6"
  }
 },
 "nbformat": 4,
 "nbformat_minor": 5
}
