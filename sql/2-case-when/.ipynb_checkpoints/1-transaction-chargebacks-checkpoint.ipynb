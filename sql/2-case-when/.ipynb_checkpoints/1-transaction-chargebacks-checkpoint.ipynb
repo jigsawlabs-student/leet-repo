{
 "cells": [
  {
   "cell_type": "markdown",
   "id": "148489f5-3960-47e7-ac67-eae446bbb2af",
   "metadata": {},
   "source": [
    "# Monthly Transactions"
   ]
  },
  {
   "cell_type": "markdown",
   "id": "4cc46435-bf5f-4379-af4d-b97cb40775a3",
   "metadata": {},
   "source": [
    "### Loading Data"
   ]
  },
  {
   "cell_type": "code",
   "execution_count": 1,
   "id": "aeb3e090-a98e-47a1-b11f-a56caf707df2",
   "metadata": {},
   "outputs": [],
   "source": [
    "import pandas as pd\n",
    "chargebacks_url = \"https://raw.githubusercontent.com/tech-interviews-jigsaw/leet-repo/main/sql/2-case-when/chargebacks.csv\"\n",
    "transactions_url = \"https://raw.githubusercontent.com/tech-interviews-jigsaw/leet-repo/main/sql/2-case-when/transactions.csv\"\n",
    "chargebacks_df = pd.read_csv(chargebacks_url, index_col = 0)\n",
    "transactions_df = pd.read_csv(transactions_url, index_col = 0)"
   ]
  },
  {
   "cell_type": "code",
   "execution_count": 9,
   "id": "5800ab7b-98b2-42c0-8645-665cde9a47a0",
   "metadata": {},
   "outputs": [],
   "source": [
    "import pandas as pd\n",
    "from sqlalchemy import create_engine\n",
    "engine = create_engine('postgresql://@localhost:5432/sql_interviews')\n",
    "\n",
    "def insert_data(df, table_name, engine):\n",
    "    df.to_sql(table_name, engine, if_exists = 'replace', index = False)\n",
    "    \n",
    "insert_data(chargebacks_df, 'chargebacks', engine)\n",
    "insert_data(transactions_df, 'transactions', engine)"
   ]
  },
  {
   "cell_type": "markdown",
   "id": "609bba92-26fa-4035-bec6-6424d02a058f",
   "metadata": {},
   "source": [
    "### Question 1"
   ]
  },
  {
   "cell_type": "markdown",
   "id": "49ad0046-ea05-4f0f-a6a5-4c98e49b61a9",
   "metadata": {},
   "source": [
    "Write an SQL query to find for each month and country, the number of transactions and their total amount, the number of approved transactions and their total amount.\n",
    "\n",
    "Return the result table in any order."
   ]
  },
  {
   "cell_type": "code",
   "execution_count": 11,
   "id": "7c88e48b-f938-425d-9e54-42f244a2055b",
   "metadata": {},
   "outputs": [
    {
     "data": {
      "text/html": [
       "<div>\n",
       "<style scoped>\n",
       "    .dataframe tbody tr th:only-of-type {\n",
       "        vertical-align: middle;\n",
       "    }\n",
       "\n",
       "    .dataframe tbody tr th {\n",
       "        vertical-align: top;\n",
       "    }\n",
       "\n",
       "    .dataframe thead th {\n",
       "        text-align: right;\n",
       "    }\n",
       "</style>\n",
       "<table border=\"1\" class=\"dataframe\">\n",
       "  <thead>\n",
       "    <tr style=\"text-align: right;\">\n",
       "      <th></th>\n",
       "      <th>user_id</th>\n",
       "      <th>post_id</th>\n",
       "      <th>action_date</th>\n",
       "      <th>action</th>\n",
       "      <th>extra</th>\n",
       "    </tr>\n",
       "  </thead>\n",
       "  <tbody>\n",
       "    <tr>\n",
       "      <th>0</th>\n",
       "      <td>1</td>\n",
       "      <td>1</td>\n",
       "      <td>2019-07-01</td>\n",
       "      <td>view</td>\n",
       "      <td>None</td>\n",
       "    </tr>\n",
       "    <tr>\n",
       "      <th>1</th>\n",
       "      <td>1</td>\n",
       "      <td>1</td>\n",
       "      <td>2019-07-01</td>\n",
       "      <td>like</td>\n",
       "      <td>None</td>\n",
       "    </tr>\n",
       "    <tr>\n",
       "      <th>2</th>\n",
       "      <td>1</td>\n",
       "      <td>1</td>\n",
       "      <td>2019-07-01</td>\n",
       "      <td>share</td>\n",
       "      <td>None</td>\n",
       "    </tr>\n",
       "  </tbody>\n",
       "</table>\n",
       "</div>"
      ],
      "text/plain": [
       "   user_id  post_id action_date action extra\n",
       "0        1        1  2019-07-01   view  None\n",
       "1        1        1  2019-07-01   like  None\n",
       "2        1        1  2019-07-01  share  None"
      ]
     },
     "execution_count": 11,
     "metadata": {},
     "output_type": "execute_result"
    }
   ],
   "source": [
    "pd.read_sql('select * from transactions limit 3', engine)"
   ]
  },
  {
   "cell_type": "code",
   "execution_count": 12,
   "id": "d74161fb-fef7-49d3-8842-57a7319189d7",
   "metadata": {},
   "outputs": [
    {
     "data": {
      "text/html": [
       "<div>\n",
       "<style scoped>\n",
       "    .dataframe tbody tr th:only-of-type {\n",
       "        vertical-align: middle;\n",
       "    }\n",
       "\n",
       "    .dataframe tbody tr th {\n",
       "        vertical-align: top;\n",
       "    }\n",
       "\n",
       "    .dataframe thead th {\n",
       "        text-align: right;\n",
       "    }\n",
       "</style>\n",
       "<table border=\"1\" class=\"dataframe\">\n",
       "  <thead>\n",
       "    <tr style=\"text-align: right;\">\n",
       "      <th></th>\n",
       "      <th>trans_id</th>\n",
       "      <th>trans_date</th>\n",
       "    </tr>\n",
       "  </thead>\n",
       "  <tbody>\n",
       "    <tr>\n",
       "      <th>0</th>\n",
       "      <td>102</td>\n",
       "      <td>2019-05-29</td>\n",
       "    </tr>\n",
       "    <tr>\n",
       "      <th>1</th>\n",
       "      <td>101</td>\n",
       "      <td>2019-06-30</td>\n",
       "    </tr>\n",
       "    <tr>\n",
       "      <th>2</th>\n",
       "      <td>105</td>\n",
       "      <td>2019-09-18</td>\n",
       "    </tr>\n",
       "  </tbody>\n",
       "</table>\n",
       "</div>"
      ],
      "text/plain": [
       "   trans_id  trans_date\n",
       "0       102  2019-05-29\n",
       "1       101  2019-06-30\n",
       "2       105  2019-09-18"
      ]
     },
     "execution_count": 12,
     "metadata": {},
     "output_type": "execute_result"
    }
   ],
   "source": [
    "pd.read_sql('select * from chargebacks limit 3', engine)"
   ]
  },
  {
   "cell_type": "markdown",
   "id": "715c5b42-8ce8-493a-b688-eb0c3a2f90fc",
   "metadata": {},
   "source": [
    "* Result"
   ]
  },
  {
   "cell_type": "markdown",
   "id": "c06af732-9077-4c40-b8c8-26bffcd5eb4d",
   "metadata": {},
   "source": [
    "| month   | country | trans_count | approved_count | trans_total_amount | approved_total_amount |\n",
    "| ------- | ------- | ----------- | -------------- | ------------------ | --------------------- |\n",
    "| 2018-12 | US      | 2           | 1              | 3000               | 1000                  |\n",
    "| 2019-01 | US      | 1           | 1              | 2000               | 2000                  |\n",
    "| 2019-01 | DE      | 1           | 1              | 2000               | 2000                  |"
   ]
  },
  {
   "cell_type": "markdown",
   "id": "835dd850-3ade-4886-bf24-bb04e8fde385",
   "metadata": {},
   "source": [
    "### Question 2"
   ]
  },
  {
   "cell_type": "markdown",
   "id": "c09567fc-190e-490e-85c8-224e0244874d",
   "metadata": {},
   "source": [
    "Write an SQL query to find for each month and country: the number of approved transactions and their total amount, the number of chargebacks, and their total amount.\n",
    "\n",
    "Note: In your query, given the month and country, ignore rows with all zeros.\n",
    "\n",
    "Return the result table in any order."
   ]
  },
  {
   "cell_type": "markdown",
   "id": "a1904ed3-2416-4d75-8523-a811a9536d0f",
   "metadata": {},
   "source": [
    "* Result"
   ]
  },
  {
   "cell_type": "markdown",
   "id": "d098f2df-f27b-4902-bc5c-b9b9a75b1ee5",
   "metadata": {},
   "source": [
    "| month   | country | approved_count | approved_amount | chargeback_count | chargeback_amount |\n",
    "| ------- | ------- | -------------- | --------------- | ---------------- | ----------------- |\n",
    "| 2019-06 | US      | 2              | 8000            | 1                | 1000              |\n",
    "| 2019-05 | US      | 1              | 1000            | 1                | 2000              |\n",
    "| 2019-09 | US      | 0              | 0               | 1                | 5000              |"
   ]
  },
  {
   "cell_type": "code",
   "execution_count": null,
   "id": "4c7704fa-a4f2-4c4e-ba33-5526cbb9c9e1",
   "metadata": {},
   "outputs": [],
   "source": []
  }
 ],
 "metadata": {
  "kernelspec": {
   "display_name": "Python 3 (ipykernel)",
   "language": "python",
   "name": "python3"
  },
  "language_info": {
   "codemirror_mode": {
    "name": "ipython",
    "version": 3
   },
   "file_extension": ".py",
   "mimetype": "text/x-python",
   "name": "python",
   "nbconvert_exporter": "python",
   "pygments_lexer": "ipython3",
   "version": "3.10.6"
  }
 },
 "nbformat": 4,
 "nbformat_minor": 5
}
