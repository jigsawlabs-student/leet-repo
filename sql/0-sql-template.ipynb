{
 "cells": [
  {
   "cell_type": "markdown",
   "id": "585c0d87-7ae4-484b-8b17-621afc0e30c7",
   "metadata": {},
   "source": [
    "# Sql Template Code"
   ]
  },
  {
   "cell_type": "markdown",
   "id": "287c780b-801f-40f1-a7ea-1cc03bd85c66",
   "metadata": {},
   "source": [
    "Convert markdown to json"
   ]
  },
  {
   "cell_type": "markdown",
   "id": "468bc64b-fd6b-4621-aa26-8357baa95a08",
   "metadata": {},
   "source": [
    "[Convert to Json](https://tableconvert.com/markdown-to-json)"
   ]
  },
  {
   "cell_type": "code",
   "execution_count": 10,
   "id": "b93881c1-0759-4446-a3b8-7d5ca9cd9971",
   "metadata": {},
   "outputs": [],
   "source": [
    "import sqlite3\n",
    "\n",
    "conn = sqlite3.connect('crm.db')\n",
    "\n",
    "def build_dataframe(data):\n",
    "    columns = data['headers']\n",
    "    values = data['values']\n",
    "    df = pd.DataFrame(values)\n",
    "    df.columns = columns\n",
    "    return df"
   ]
  },
  {
   "cell_type": "code",
   "execution_count": 7,
   "id": "b4c04b20-8708-4027-abc5-1baee4c07044",
   "metadata": {},
   "outputs": [],
   "source": []
  },
  {
   "cell_type": "code",
   "execution_count": 8,
   "id": "ebdd37a4-a1f1-49e9-8a67-6164e5f7e0bc",
   "metadata": {},
   "outputs": [],
   "source": [
    "import pandas as pd\n",
    "data = {\"headers\": [\"personId\", \"firstName\", \"lastName\"], \"values\": values}\n",
    "\n",
    "df = build_dataframe(data)\n",
    "\n",
    "# df.to_sql('persons', conn, if_exists = 'replace', index = False)"
   ]
  },
  {
   "cell_type": "code",
   "execution_count": 9,
   "id": "ec810c40-3b5a-4b04-9d1b-d54e836f5382",
   "metadata": {},
   "outputs": [
    {
     "data": {
      "text/html": [
       "<div>\n",
       "<style scoped>\n",
       "    .dataframe tbody tr th:only-of-type {\n",
       "        vertical-align: middle;\n",
       "    }\n",
       "\n",
       "    .dataframe tbody tr th {\n",
       "        vertical-align: top;\n",
       "    }\n",
       "\n",
       "    .dataframe thead th {\n",
       "        text-align: right;\n",
       "    }\n",
       "</style>\n",
       "<table border=\"1\" class=\"dataframe\">\n",
       "  <thead>\n",
       "    <tr style=\"text-align: right;\">\n",
       "      <th></th>\n",
       "      <th>personId</th>\n",
       "      <th>firstName</th>\n",
       "      <th>lastName</th>\n",
       "    </tr>\n",
       "  </thead>\n",
       "  <tbody>\n",
       "    <tr>\n",
       "      <th>0</th>\n",
       "      <td>1</td>\n",
       "      <td>2</td>\n",
       "      <td>59</td>\n",
       "    </tr>\n",
       "    <tr>\n",
       "      <th>1</th>\n",
       "      <td>2</td>\n",
       "      <td>1</td>\n",
       "      <td>11</td>\n",
       "    </tr>\n",
       "    <tr>\n",
       "      <th>2</th>\n",
       "      <td>1</td>\n",
       "      <td>3</td>\n",
       "      <td>20</td>\n",
       "    </tr>\n",
       "    <tr>\n",
       "      <th>3</th>\n",
       "      <td>3</td>\n",
       "      <td>4</td>\n",
       "      <td>100</td>\n",
       "    </tr>\n",
       "    <tr>\n",
       "      <th>4</th>\n",
       "      <td>3</td>\n",
       "      <td>4</td>\n",
       "      <td>200</td>\n",
       "    </tr>\n",
       "    <tr>\n",
       "      <th>5</th>\n",
       "      <td>3</td>\n",
       "      <td>4</td>\n",
       "      <td>200</td>\n",
       "    </tr>\n",
       "    <tr>\n",
       "      <th>6</th>\n",
       "      <td>4</td>\n",
       "      <td>3</td>\n",
       "      <td>499</td>\n",
       "    </tr>\n",
       "  </tbody>\n",
       "</table>\n",
       "</div>"
      ],
      "text/plain": [
       "  personId firstName lastName\n",
       "0        1         2       59\n",
       "1        2         1       11\n",
       "2        1         3       20\n",
       "3        3         4      100\n",
       "4        3         4      200\n",
       "5        3         4      200\n",
       "6        4         3      499"
      ]
     },
     "execution_count": 9,
     "metadata": {},
     "output_type": "execute_result"
    }
   ],
   "source": [
    "df"
   ]
  },
  {
   "cell_type": "code",
   "execution_count": null,
   "id": "eb58b9dc-08ab-41d1-963e-3ef72b839030",
   "metadata": {},
   "outputs": [],
   "source": []
  }
 ],
 "metadata": {
  "kernelspec": {
   "display_name": "Python 3 (ipykernel)",
   "language": "python",
   "name": "python3"
  },
  "language_info": {
   "codemirror_mode": {
    "name": "ipython",
    "version": 3
   },
   "file_extension": ".py",
   "mimetype": "text/x-python",
   "name": "python",
   "nbconvert_exporter": "python",
   "pygments_lexer": "ipython3",
   "version": "3.10.6"
  }
 },
 "nbformat": 4,
 "nbformat_minor": 5
}
