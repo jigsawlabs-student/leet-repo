{
 "cells": [
  {
   "cell_type": "code",
   "execution_count": null,
   "id": "3b123c40-9f28-4dde-ade8-286f3fe53ff0",
   "metadata": {},
   "outputs": [],
   "source": []
  },
  {
   "cell_type": "code",
   "execution_count": null,
   "id": "cb739aea-d054-425a-8fc4-f0828346eec0",
   "metadata": {},
   "outputs": [],
   "source": []
  },
  {
   "cell_type": "code",
   "execution_count": null,
   "id": "bbeba780-0dee-4d62-ba7d-32ee124a3228",
   "metadata": {},
   "outputs": [],
   "source": []
  },
  {
   "cell_type": "markdown",
   "id": "da3cc3a7-620a-45dd-927b-e430c76ed94b",
   "metadata": {},
   "source": [
    "### Curated SQL"
   ]
  },
  {
   "cell_type": "markdown",
   "id": "ec7229cc-04e9-4b3c-80e1-de5805bec552",
   "metadata": {},
   "source": [
    "https://leetcode.com/problem-list/leetcode-curated-sql-70/"
   ]
  },
  {
   "cell_type": "markdown",
   "id": "c45f9f05-5691-4e86-b2fb-cec456428c93",
   "metadata": {},
   "source": [
    "* Reported Posts\n",
    "* Monthly Transactions"
   ]
  },
  {
   "cell_type": "code",
   "execution_count": null,
   "id": "b49165d3-c39a-4c74-b20f-80d6c21009d3",
   "metadata": {},
   "outputs": [],
   "source": []
  }
 ],
 "metadata": {
  "kernelspec": {
   "display_name": "Python 3 (ipykernel)",
   "language": "python",
   "name": "python3"
  },
  "language_info": {
   "codemirror_mode": {
    "name": "ipython",
    "version": 3
   },
   "file_extension": ".py",
   "mimetype": "text/x-python",
   "name": "python",
   "nbconvert_exporter": "python",
   "pygments_lexer": "ipython3",
   "version": "3.10.6"
  }
 },
 "nbformat": 4,
 "nbformat_minor": 5
}
