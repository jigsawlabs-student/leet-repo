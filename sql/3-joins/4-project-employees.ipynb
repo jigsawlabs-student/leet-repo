{
 "cells": [
  {
   "cell_type": "markdown",
   "id": "a2921b53-af3c-47ff-b8e7-9e4d33cd91a3",
   "metadata": {},
   "source": [
    "# Project Employees"
   ]
  },
  {
   "cell_type": "markdown",
   "id": "eec3d6b8-4744-466e-ba83-420703f7cbf9",
   "metadata": {},
   "source": [
    "### Loading Data"
   ]
  },
  {
   "cell_type": "code",
   "execution_count": null,
   "id": "c70211c2-d742-4877-bcc8-52eb3cefbcf7",
   "metadata": {},
   "outputs": [],
   "source": [
    "import pandas as pd\n",
    "\n",
    "employee_df = pd.read_csv('https://raw.githubusercontent.com/tech-interviews-jigsaw/leet-repo/main/sql/3-joins/employee.csv', index_col = 0)\n",
    "project_df = pd.read_csv('https://raw.githubusercontent.com/tech-interviews-jigsaw/leet-repo/main/sql/3-joins/project.csv', index_col = 0)"
   ]
  },
  {
   "cell_type": "code",
   "execution_count": 14,
   "id": "91a0ad76-8d26-45e6-9780-45ba3c4d8743",
   "metadata": {},
   "outputs": [],
   "source": [
    "import pandas as pd\n",
    "from sqlalchemy import create_engine\n",
    "engine = create_engine('postgresql://@localhost:5432/sql_interviews')\n",
    "\n",
    "def insert_data(df, table_name, engine):\n",
    "    df.to_sql(table_name, engine, if_exists = 'replace', index = False)\n",
    "    \n",
    "insert_data(employee_df, 'employee', engine)\n",
    "insert_data(project_df, 'project', engine)"
   ]
  },
  {
   "cell_type": "code",
   "execution_count": 15,
   "id": "2700c6d5-e3f1-42e8-8fb2-3d12b631fd48",
   "metadata": {},
   "outputs": [
    {
     "data": {
      "text/html": [
       "<div>\n",
       "<style scoped>\n",
       "    .dataframe tbody tr th:only-of-type {\n",
       "        vertical-align: middle;\n",
       "    }\n",
       "\n",
       "    .dataframe tbody tr th {\n",
       "        vertical-align: top;\n",
       "    }\n",
       "\n",
       "    .dataframe thead th {\n",
       "        text-align: right;\n",
       "    }\n",
       "</style>\n",
       "<table border=\"1\" class=\"dataframe\">\n",
       "  <thead>\n",
       "    <tr style=\"text-align: right;\">\n",
       "      <th></th>\n",
       "      <th>employee_id</th>\n",
       "      <th>name</th>\n",
       "      <th>experience_years</th>\n",
       "    </tr>\n",
       "  </thead>\n",
       "  <tbody>\n",
       "    <tr>\n",
       "      <th>0</th>\n",
       "      <td>1</td>\n",
       "      <td>Khaled</td>\n",
       "      <td>3</td>\n",
       "    </tr>\n",
       "    <tr>\n",
       "      <th>1</th>\n",
       "      <td>2</td>\n",
       "      <td>Ali</td>\n",
       "      <td>2</td>\n",
       "    </tr>\n",
       "  </tbody>\n",
       "</table>\n",
       "</div>"
      ],
      "text/plain": [
       "   employee_id    name  experience_years\n",
       "0            1  Khaled                 3\n",
       "1            2     Ali                 2"
      ]
     },
     "execution_count": 15,
     "metadata": {},
     "output_type": "execute_result"
    }
   ],
   "source": [
    "pd.read_sql('select * from employee limit 2', engine)"
   ]
  },
  {
   "cell_type": "code",
   "execution_count": 16,
   "id": "6fddee9b-a147-4769-8069-791e96cd1c9c",
   "metadata": {},
   "outputs": [
    {
     "data": {
      "text/html": [
       "<div>\n",
       "<style scoped>\n",
       "    .dataframe tbody tr th:only-of-type {\n",
       "        vertical-align: middle;\n",
       "    }\n",
       "\n",
       "    .dataframe tbody tr th {\n",
       "        vertical-align: top;\n",
       "    }\n",
       "\n",
       "    .dataframe thead th {\n",
       "        text-align: right;\n",
       "    }\n",
       "</style>\n",
       "<table border=\"1\" class=\"dataframe\">\n",
       "  <thead>\n",
       "    <tr style=\"text-align: right;\">\n",
       "      <th></th>\n",
       "      <th>project_id</th>\n",
       "      <th>employee_id</th>\n",
       "    </tr>\n",
       "  </thead>\n",
       "  <tbody>\n",
       "    <tr>\n",
       "      <th>0</th>\n",
       "      <td>1</td>\n",
       "      <td>1</td>\n",
       "    </tr>\n",
       "    <tr>\n",
       "      <th>1</th>\n",
       "      <td>1</td>\n",
       "      <td>2</td>\n",
       "    </tr>\n",
       "  </tbody>\n",
       "</table>\n",
       "</div>"
      ],
      "text/plain": [
       "   project_id  employee_id\n",
       "0           1            1\n",
       "1           1            2"
      ]
     },
     "execution_count": 16,
     "metadata": {},
     "output_type": "execute_result"
    }
   ],
   "source": [
    "pd.read_sql('select * from project limit 2', engine)"
   ]
  },
  {
   "cell_type": "markdown",
   "id": "681b8ba8-791f-43c2-b792-9045dff20bf6",
   "metadata": {},
   "source": [
    "### Problem 1"
   ]
  },
  {
   "cell_type": "markdown",
   "id": "473cf2b9-112f-4dd5-be08-a26b9fd97cbc",
   "metadata": {},
   "source": [
    "Write an SQL query that reports the average experience years of all the employees for each project, rounded to 2 digits.\n",
    "\n",
    "Return the result table in any order."
   ]
  },
  {
   "cell_type": "markdown",
   "id": "b2b22945-de05-4553-8b12-6a134c39ab8e",
   "metadata": {},
   "source": [
    "| project_id | average_years |\n",
    "| ---------- | ------------- |\n",
    "| 1          | 2             |\n",
    "| 2          | 2.5           |"
   ]
  },
  {
   "cell_type": "markdown",
   "id": "d87a4e1d-ff37-4462-bc07-38411b870b48",
   "metadata": {},
   "source": [
    "### Problem 2"
   ]
  },
  {
   "cell_type": "markdown",
   "id": "ac532b3e-f768-4366-a984-c940339d3150",
   "metadata": {},
   "source": [
    "Write an SQL query that reports all the **projects** that have the most employees.\n",
    "\n",
    "Return the result table in any order."
   ]
  },
  {
   "cell_type": "markdown",
   "id": "1edf89a5-0d3b-46f5-9d41-0b83286c8693",
   "metadata": {},
   "source": [
    "| project_id |\n",
    "| ---------- |\n",
    "| 1          |"
   ]
  },
  {
   "cell_type": "code",
   "execution_count": null,
   "id": "46773ff8-53b7-4950-b6ee-979ec9eb65cd",
   "metadata": {},
   "outputs": [],
   "source": []
  }
 ],
 "metadata": {
  "kernelspec": {
   "display_name": "Python 3 (ipykernel)",
   "language": "python",
   "name": "python3"
  },
  "language_info": {
   "codemirror_mode": {
    "name": "ipython",
    "version": 3
   },
   "file_extension": ".py",
   "mimetype": "text/x-python",
   "name": "python",
   "nbconvert_exporter": "python",
   "pygments_lexer": "ipython3",
   "version": "3.10.6"
  }
 },
 "nbformat": 4,
 "nbformat_minor": 5
}
