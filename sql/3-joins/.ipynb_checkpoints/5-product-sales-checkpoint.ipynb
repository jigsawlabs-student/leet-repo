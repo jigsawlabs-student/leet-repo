{
 "cells": [
  {
   "cell_type": "markdown",
   "id": "c8564b60-4dd0-4426-934a-f12c811067e9",
   "metadata": {},
   "source": [
    "# Product Sales"
   ]
  },
  {
   "cell_type": "markdown",
   "id": "1d02a895-d0cb-4a7c-bbe5-fd444b318b16",
   "metadata": {},
   "source": [
    "### Loading Data"
   ]
  },
  {
   "cell_type": "code",
   "execution_count": 5,
   "id": "3a7e1e44-58d7-49f7-ac11-ad9b2a38b6a0",
   "metadata": {},
   "outputs": [],
   "source": [
    "import pandas as pd\n",
    "sales_df = pd.read_csv('https://raw.githubusercontent.com/tech-interviews-jigsaw/leet-repo/main/sql/3-joins/sales.csv', index_col = 0)\n",
    "product_df = pd.read_csv('https://raw.githubusercontent.com/tech-interviews-jigsaw/leet-repo/main/sql/3-joins/product.csv', index_col = 0)\n",
    "\n",
    "import pandas as pd\n",
    "from sqlalchemy import create_engine\n",
    "engine = create_engine('postgresql://@localhost:5432/sql_interviews')\n",
    "\n",
    "def insert_data(df, table_name, engine):\n",
    "    df.to_sql(table_name, engine, if_exists = 'replace', index = False)\n",
    "    \n",
    "insert_data(sales_df, 'sales', engine)\n",
    "insert_data(product_df, 'product', engine)"
   ]
  },
  {
   "cell_type": "code",
   "execution_count": 8,
   "id": "44bdb7b7-4f74-4115-87a1-3dfa86c712cb",
   "metadata": {},
   "outputs": [
    {
     "data": {
      "text/html": [
       "<div>\n",
       "<style scoped>\n",
       "    .dataframe tbody tr th:only-of-type {\n",
       "        vertical-align: middle;\n",
       "    }\n",
       "\n",
       "    .dataframe tbody tr th {\n",
       "        vertical-align: top;\n",
       "    }\n",
       "\n",
       "    .dataframe thead th {\n",
       "        text-align: right;\n",
       "    }\n",
       "</style>\n",
       "<table border=\"1\" class=\"dataframe\">\n",
       "  <thead>\n",
       "    <tr style=\"text-align: right;\">\n",
       "      <th></th>\n",
       "      <th>product_id</th>\n",
       "      <th>product_name</th>\n",
       "      <th>unit_price</th>\n",
       "    </tr>\n",
       "  </thead>\n",
       "  <tbody>\n",
       "    <tr>\n",
       "      <th>0</th>\n",
       "      <td>1</td>\n",
       "      <td>S8</td>\n",
       "      <td>1000</td>\n",
       "    </tr>\n",
       "    <tr>\n",
       "      <th>1</th>\n",
       "      <td>2</td>\n",
       "      <td>G4</td>\n",
       "      <td>800</td>\n",
       "    </tr>\n",
       "  </tbody>\n",
       "</table>\n",
       "</div>"
      ],
      "text/plain": [
       "   product_id product_name  unit_price\n",
       "0           1           S8        1000\n",
       "1           2           G4         800"
      ]
     },
     "execution_count": 8,
     "metadata": {},
     "output_type": "execute_result"
    }
   ],
   "source": [
    "pd.read_sql('select * from sales limit 2', engine)\n",
    "\n",
    "pd.read_sql('select * from product limit 2', engine)"
   ]
  },
  {
   "cell_type": "markdown",
   "id": "e36b391b-06c4-4869-9cd3-b7c0b0a85c1a",
   "metadata": {},
   "source": [
    "### Problem 1"
   ]
  },
  {
   "cell_type": "markdown",
   "id": "a142a7e0-6249-4343-9c73-80eddd6ae933",
   "metadata": {},
   "source": [
    "Write an SQL query that reports the best seller by total sales price, If there is a tie, report them all.\n",
    "\n",
    "Return the result table in any order."
   ]
  },
  {
   "cell_type": "markdown",
   "id": "cc27b788-bc88-440c-8982-09533b94a41b",
   "metadata": {},
   "source": [
    "| seller_id |\n",
    "| --------- |\n",
    "| 1         |\n",
    "| 3         |"
   ]
  },
  {
   "cell_type": "markdown",
   "id": "0baac47f-84d6-4d80-8b3f-539bcd8501f5",
   "metadata": {},
   "source": [
    "### Problem 2"
   ]
  },
  {
   "cell_type": "markdown",
   "id": "49f22b66-6d3f-4617-92d1-56a2d4f48583",
   "metadata": {},
   "source": [
    "Write an SQL query that reports the buyers who have bought S8 but not iPhone. Note that S8 and iPhone are products present in the Product table.\n",
    "\n",
    "Return the result table in any order."
   ]
  },
  {
   "cell_type": "markdown",
   "id": "7bb7f6ad-543d-4ec1-931f-95865699135e",
   "metadata": {},
   "source": [
    "| buyer_id |\n",
    "| -------- |\n",
    "| 1        |"
   ]
  },
  {
   "cell_type": "markdown",
   "id": "2d5096ac-096d-4a14-97d2-ab51b2c022a7",
   "metadata": {},
   "source": [
    "### Problem 3"
   ]
  },
  {
   "cell_type": "markdown",
   "id": "ed23ec3d-0849-447b-885a-6d82e6869e25",
   "metadata": {},
   "source": [
    "Write an SQL query that reports the products that were only sold in the first quarter of 2019. That is, between 2019-01-01 and 2019-03-31 inclusive.\n",
    "\n",
    "Return the result table in any order."
   ]
  },
  {
   "cell_type": "markdown",
   "id": "ce13d644-16b2-4eb9-a8ed-4e3effe42ecf",
   "metadata": {},
   "source": [
    "| product_id | product_name |\n",
    "| ---------- | ------------ |\n",
    "| 1          | S8           |"
   ]
  },
  {
   "cell_type": "code",
   "execution_count": null,
   "id": "a2ede3b8-bcf9-4291-af52-26328c2a82cd",
   "metadata": {},
   "outputs": [],
   "source": []
  }
 ],
 "metadata": {
  "kernelspec": {
   "display_name": "Python 3 (ipykernel)",
   "language": "python",
   "name": "python3"
  },
  "language_info": {
   "codemirror_mode": {
    "name": "ipython",
    "version": 3
   },
   "file_extension": ".py",
   "mimetype": "text/x-python",
   "name": "python",
   "nbconvert_exporter": "python",
   "pygments_lexer": "ipython3",
   "version": "3.10.6"
  }
 },
 "nbformat": 4,
 "nbformat_minor": 5
}
