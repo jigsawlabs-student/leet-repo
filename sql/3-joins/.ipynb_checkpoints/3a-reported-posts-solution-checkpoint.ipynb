{
 "cells": [
  {
   "cell_type": "markdown",
   "id": "7186966e-ec2a-441e-952c-3d7e820e28ed",
   "metadata": {},
   "source": [
    "# Reported Posts"
   ]
  },
  {
   "cell_type": "markdown",
   "id": "f0676cce-5fcd-4565-83cc-31e4d2319c33",
   "metadata": {},
   "source": [
    "### Loading Data"
   ]
  },
  {
   "cell_type": "code",
   "execution_count": 1,
   "id": "cfb2f56e-c3b6-449d-a76e-be774819ed07",
   "metadata": {},
   "outputs": [],
   "source": [
    "import pandas as pd\n",
    "from sqlalchemy import create_engine\n",
    "engine = create_engine('postgresql://@localhost:5432/sql_interviews')\n",
    "\n",
    "def insert_data(df, engine):\n",
    "    df.to_sql('actions', engine, if_exists = 'replace')"
   ]
  },
  {
   "cell_type": "code",
   "execution_count": 6,
   "id": "5a4b9800-0f65-453d-bfdb-4761a61ba1ca",
   "metadata": {},
   "outputs": [],
   "source": [
    "import pandas as pd\n",
    "url = \"https://raw.githubusercontent.com/tech-interviews-jigsaw/leet-repo/main/sql/3-joins/posts.csv\"\n",
    "posts_df = pd.read_sql(url)\n",
    "\n",
    "# posts_df"
   ]
  },
  {
   "cell_type": "code",
   "execution_count": 7,
   "id": "23983430-5170-4a44-a09c-776dc55a395e",
   "metadata": {},
   "outputs": [],
   "source": [
    "insert_data(posts_df, engine)"
   ]
  },
  {
   "cell_type": "markdown",
   "id": "fa5729f3-ae00-4e05-9854-49e1aa74c68c",
   "metadata": {},
   "source": [
    "### Problem 1"
   ]
  },
  {
   "cell_type": "markdown",
   "id": "2db7bc46-e5f5-46f4-9b3b-8101e19750c7",
   "metadata": {},
   "source": [
    "Write an SQL query that reports the number of posts reported yesterday for each report reason. Assume today is 2019-07-05.\n",
    "\n",
    "Return the result table in any order."
   ]
  },
  {
   "cell_type": "markdown",
   "id": "46e9875b-d0c7-4644-b4a2-4f9870ae9913",
   "metadata": {},
   "source": [
    "* Result"
   ]
  },
  {
   "cell_type": "markdown",
   "id": "82e0c816-9ab1-4263-a01f-af5cb511ec63",
   "metadata": {},
   "source": [
    "| report_reason | report_count |\n",
    "| ------------- | ------------ |\n",
    "| racism        | 2            |\n",
    "| spam          | 1            |"
   ]
  },
  {
   "cell_type": "markdown",
   "id": "e8fb3c98-245f-4de2-b7df-10b7fb7e7207",
   "metadata": {},
   "source": [
    "```sql\n",
    "select \n",
    "  extra as report_reason\n",
    "  ,count(distinct post_id) as report_count\n",
    "from Actions\n",
    "where action_date = '2019-07-04'\n",
    "  and action = 'report'\n",
    "group by extra\n",
    "```"
   ]
  },
  {
   "cell_type": "markdown",
   "id": "7c337280-4cb6-4c7e-a29f-d09cfbc9eaf2",
   "metadata": {},
   "source": [
    "### Question 2"
   ]
  },
  {
   "cell_type": "markdown",
   "id": "1e82e16a-bcb5-468c-a705-db2ffb840027",
   "metadata": {},
   "source": [
    "Write an SQL query to find the average daily percentage of posts that got removed after being reported as spam, rounded to 2 decimal places."
   ]
  },
  {
   "cell_type": "markdown",
   "id": "74228f72-5321-43cf-9d41-4dac7bc07a8c",
   "metadata": {},
   "source": [
    "* Result"
   ]
  },
  {
   "cell_type": "markdown",
   "id": "d7720543-e6d3-4c7f-956e-09a038871907",
   "metadata": {},
   "source": [
    "| average_daily_percent |\n",
    "| --------------------- |\n",
    "| 75                    |"
   ]
  },
  {
   "cell_type": "markdown",
   "id": "7ad5502b-806a-49ab-808d-bc54c485b10a",
   "metadata": {},
   "source": [
    "```sql\n",
    "with cte as\n",
    "(\n",
    "select\n",
    "\ta.action_date\n",
    "\t,count(distinct r.post_id) as cnt_removal\n",
    "\t,count(distinct a.post_id) as cnt_total\n",
    "from dbo.actions as a\n",
    "left join dbo.removals as r\n",
    "on a.post_id = r.post_id\n",
    "\n",
    "where a.extra = 'spam'\n",
    "\n",
    "group by\n",
    "\ta.action_date\n",
    ")\n",
    "select\n",
    "\tround(sum(c.cnt_removal*1.0 / c.cnt_total)*100 / count(*),2) as average_daily_percent \n",
    "from cte as c;\n",
    "```"
   ]
  },
  {
   "cell_type": "markdown",
   "id": "481e62c4-79a6-41cb-81c1-6185ec36f5b8",
   "metadata": {},
   "source": [
    "* FULL DISCLOSURE: I kept getting an answer of 61.61, off by about 0.20. I decided to look at some solutions to find out what I was doing wrong.\n",
    "* I didn't take into account that the post_id in the \"actions\" table could have duplicates, even if the user_id is different. For reference look at the below image or post_id 24 and 76 in the \"Case 2\" data.\n",
    "\n",
    "* Once I realized this, I used DISTINCT COUNT to get my answer. Below is my solution, I spent a lot of time on this problem so I didn't really optimize it."
   ]
  },
  {
   "cell_type": "code",
   "execution_count": null,
   "id": "0dfab4ad-3def-4a78-858d-0088aefe9fe3",
   "metadata": {},
   "outputs": [],
   "source": []
  }
 ],
 "metadata": {
  "kernelspec": {
   "display_name": "Python 3 (ipykernel)",
   "language": "python",
   "name": "python3"
  },
  "language_info": {
   "codemirror_mode": {
    "name": "ipython",
    "version": 3
   },
   "file_extension": ".py",
   "mimetype": "text/x-python",
   "name": "python",
   "nbconvert_exporter": "python",
   "pygments_lexer": "ipython3",
   "version": "3.10.6"
  }
 },
 "nbformat": 4,
 "nbformat_minor": 5
}
