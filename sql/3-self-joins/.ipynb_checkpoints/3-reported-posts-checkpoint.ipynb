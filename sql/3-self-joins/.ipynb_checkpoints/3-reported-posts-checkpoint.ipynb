{
 "cells": [
  {
   "cell_type": "markdown",
   "id": "7186966e-ec2a-441e-952c-3d7e820e28ed",
   "metadata": {},
   "source": [
    "# Reported Posts"
   ]
  },
  {
   "cell_type": "markdown",
   "id": "f0676cce-5fcd-4565-83cc-31e4d2319c33",
   "metadata": {},
   "source": [
    "### Loading Data"
   ]
  },
  {
   "cell_type": "code",
   "execution_count": 1,
   "id": "cfb2f56e-c3b6-449d-a76e-be774819ed07",
   "metadata": {},
   "outputs": [],
   "source": [
    "import pandas as pd\n",
    "from sqlalchemy import create_engine\n",
    "engine = create_engine('postgresql://@localhost:5432/sql_interviews')\n",
    "\n",
    "def insert_data(df, engine):\n",
    "    df.to_sql('actions', engine, if_exists = 'replace')"
   ]
  },
  {
   "cell_type": "code",
   "execution_count": 4,
   "id": "5a4b9800-0f65-453d-bfdb-4761a61ba1ca",
   "metadata": {},
   "outputs": [
    {
     "data": {
      "text/html": [
       "<div>\n",
       "<style scoped>\n",
       "    .dataframe tbody tr th:only-of-type {\n",
       "        vertical-align: middle;\n",
       "    }\n",
       "\n",
       "    .dataframe tbody tr th {\n",
       "        vertical-align: top;\n",
       "    }\n",
       "\n",
       "    .dataframe thead th {\n",
       "        text-align: right;\n",
       "    }\n",
       "</style>\n",
       "<table border=\"1\" class=\"dataframe\">\n",
       "  <thead>\n",
       "    <tr style=\"text-align: right;\">\n",
       "      <th></th>\n",
       "      <th>user_id</th>\n",
       "      <th>post_id</th>\n",
       "      <th>action_date</th>\n",
       "      <th>action</th>\n",
       "      <th>extra</th>\n",
       "    </tr>\n",
       "  </thead>\n",
       "  <tbody>\n",
       "    <tr>\n",
       "      <th>0</th>\n",
       "      <td>1</td>\n",
       "      <td>1</td>\n",
       "      <td>2019-07-01</td>\n",
       "      <td>view</td>\n",
       "      <td>NaN</td>\n",
       "    </tr>\n",
       "    <tr>\n",
       "      <th>1</th>\n",
       "      <td>1</td>\n",
       "      <td>1</td>\n",
       "      <td>2019-07-01</td>\n",
       "      <td>like</td>\n",
       "      <td>NaN</td>\n",
       "    </tr>\n",
       "    <tr>\n",
       "      <th>2</th>\n",
       "      <td>1</td>\n",
       "      <td>1</td>\n",
       "      <td>2019-07-01</td>\n",
       "      <td>share</td>\n",
       "      <td>NaN</td>\n",
       "    </tr>\n",
       "  </tbody>\n",
       "</table>\n",
       "</div>"
      ],
      "text/plain": [
       "   user_id  post_id action_date action extra\n",
       "0        1        1  2019-07-01   view   NaN\n",
       "1        1        1  2019-07-01   like   NaN\n",
       "2        1        1  2019-07-01  share   NaN"
      ]
     },
     "execution_count": 4,
     "metadata": {},
     "output_type": "execute_result"
    }
   ],
   "source": [
    "import pandas as pd\n",
    "url = \"https://raw.githubusercontent.com/tech-interviews-jigsaw/leet-repo/main/sql/3-self-joins/posts.csv\"\n",
    "posts_df = pd.read_csv(url, index_col = 0)\n",
    "\n",
    "posts_df[:3]"
   ]
  },
  {
   "cell_type": "code",
   "execution_count": 7,
   "id": "23983430-5170-4a44-a09c-776dc55a395e",
   "metadata": {},
   "outputs": [],
   "source": [
    "insert_data(posts_df, engine)"
   ]
  },
  {
   "cell_type": "markdown",
   "id": "fa5729f3-ae00-4e05-9854-49e1aa74c68c",
   "metadata": {},
   "source": [
    "### Problem 1"
   ]
  },
  {
   "cell_type": "markdown",
   "id": "2db7bc46-e5f5-46f4-9b3b-8101e19750c7",
   "metadata": {},
   "source": [
    "Write an SQL query that reports the number of posts reported yesterday for each report reason. Assume today is 2019-07-05.\n",
    "\n",
    "Return the result table in any order."
   ]
  },
  {
   "cell_type": "markdown",
   "id": "46e9875b-d0c7-4644-b4a2-4f9870ae9913",
   "metadata": {},
   "source": [
    "* Result"
   ]
  },
  {
   "cell_type": "markdown",
   "id": "82e0c816-9ab1-4263-a01f-af5cb511ec63",
   "metadata": {},
   "source": [
    "| report_reason | report_count |\n",
    "| ------------- | ------------ |\n",
    "| racism        | 2            |\n",
    "| spam          | 1            |"
   ]
  },
  {
   "cell_type": "markdown",
   "id": "7c337280-4cb6-4c7e-a29f-d09cfbc9eaf2",
   "metadata": {},
   "source": [
    "### Question 2"
   ]
  },
  {
   "cell_type": "markdown",
   "id": "1e82e16a-bcb5-468c-a705-db2ffb840027",
   "metadata": {},
   "source": [
    "Write an SQL query to find the average daily percentage of posts that got removed after being reported as spam, rounded to 2 decimal places."
   ]
  },
  {
   "cell_type": "markdown",
   "id": "74228f72-5321-43cf-9d41-4dac7bc07a8c",
   "metadata": {},
   "source": [
    "* Result"
   ]
  },
  {
   "cell_type": "markdown",
   "id": "d7720543-e6d3-4c7f-956e-09a038871907",
   "metadata": {},
   "source": [
    "| average_daily_percent |\n",
    "| --------------------- |\n",
    "| 75                    |"
   ]
  },
  {
   "cell_type": "code",
   "execution_count": null,
   "id": "24aa86cf-83e5-4f6b-8738-f518e032b721",
   "metadata": {},
   "outputs": [],
   "source": []
  }
 ],
 "metadata": {
  "kernelspec": {
   "display_name": "Python 3 (ipykernel)",
   "language": "python",
   "name": "python3"
  },
  "language_info": {
   "codemirror_mode": {
    "name": "ipython",
    "version": 3
   },
   "file_extension": ".py",
   "mimetype": "text/x-python",
   "name": "python",
   "nbconvert_exporter": "python",
   "pygments_lexer": "ipython3",
   "version": "3.10.6"
  }
 },
 "nbformat": 4,
 "nbformat_minor": 5
}
