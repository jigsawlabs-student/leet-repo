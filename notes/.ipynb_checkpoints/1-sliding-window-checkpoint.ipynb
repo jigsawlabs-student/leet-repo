{
 "cells": [
  {
   "cell_type": "markdown",
   "id": "f71609c0-5857-4d95-9212-5055d9c12713",
   "metadata": {},
   "source": [
    "# Sliding Window Problems"
   ]
  },
  {
   "cell_type": "markdown",
   "id": "df878cd2-1e52-4a5e-ba43-cb2b8b7b3429",
   "metadata": {},
   "source": [
    "## Initial Problem"
   ]
  },
  {
   "cell_type": "markdown",
   "id": "7300fe28-5aef-4818-a8b6-00fa400dec31",
   "metadata": {},
   "source": [
    "Problem\n",
    "\n",
    "- Given an array of integers of size N, find the maximum sum of K consecutive elements"
   ]
  },
  {
   "cell_type": "markdown",
   "id": "4f76d4b2-07b0-467b-ac54-92bb9eb4238a",
   "metadata": {},
   "source": [
    "### Brute Force Approach"
   ]
  },
  {
   "cell_type": "code",
   "execution_count": 2,
   "id": "e014c58f-3042-4908-84b4-97e051241f92",
   "metadata": {},
   "outputs": [],
   "source": [
    "arr = [80, -50, 90, 100]"
   ]
  },
  {
   "cell_type": "code",
   "execution_count": 1,
   "id": "3ab2bf5e-e8d6-4561-be63-21a7d4402b47",
   "metadata": {},
   "outputs": [],
   "source": [
    "def max_sum():\n",
    "    max_sum = negative_infinity\n",
    "    n = arr.length\n",
    "    for i in range(0, n - k + 1):\n",
    "        current_sum = 0\n",
    "        for j in range (0, k):\n",
    "            current_sum += arr[i + j]\n",
    "        max_sum = max(current_sum, max_sum)"
   ]
  },
  {
   "cell_type": "markdown",
   "id": "12db2e41-5cc2-4c32-8f79-b936e1a86610",
   "metadata": {},
   "source": [
    "* Notice there are lots of techniques just in here.\n",
    "    1. Setting the initial value at neg inf\n",
    "    2. A subloop of going through just a segment of the list (j in range(0 < k)\n",
    "    3. Using max to find the current current_max = max(current_max, local_value) "
   ]
  },
  {
   "cell_type": "markdown",
   "id": "3186081b-ba1c-461c-bff1-c79f7769a8c6",
   "metadata": {},
   "source": [
    "### Sliding window approach"
   ]
  },
  {
   "cell_type": "code",
   "execution_count": null,
   "id": "8138369d-e696-45be-abae-dc1a1ef5df98",
   "metadata": {},
   "outputs": [],
   "source": [
    "arr = [1, 2, 100, -1, 5]\n",
    "# n = 5\n",
    "# k = 3\n",
    "\n",
    "# calculate initial window sum([1, 2, 100])\n",
    "# Then subtract first element and add new last element\n",
    "    # sum([2, 100, -1])\n",
    "    # sum([100, -1, 5])\n",
    "    \n",
    "# Or a refactoring is\n",
    "    # initial_window =  sum([1, 2, 100])\n",
    "    # next = sum(initial_window - 1 + -1) remove first num and add the second\n",
    "    # initial_window = max(initial_window, next)"
   ]
  },
  {
   "cell_type": "code",
   "execution_count": null,
   "id": "17cf7569-d9f7-42bc-a287-d27bf0586462",
   "metadata": {},
   "outputs": [],
   "source": [
    "def maxSum(arr, windowSize):\n",
    "    arraySize = len(arr)\n",
    "\n",
    "    # Compute sum of first window of size k\n",
    "    window_sum = sum([arr[i] for i in range(windowSize)])\n",
    "    max_sum = window_sum\n",
    "    # Compute sums of remaining windows by\n",
    "    # removing first element of previous\n",
    "    # window and adding last element of\n",
    "    # current window.\n",
    "    for i in range(arraySize-windowSize):\n",
    "        window_sum = window_sum - arr[i] + arr[i + windowSize]\n",
    "        max_sum = max(window_sum, max_sum)\n",
    "    return max_sum\n",
    "\n",
    "arr = [1, 2, 100, -1, 5]\n",
    "# maximum sum should be 104 => 100 + -1 + 5\n",
    "answer = maxSum(arr, 3)\n",
    "print(answer)"
   ]
  },
  {
   "cell_type": "code",
   "execution_count": null,
   "id": "6dfe9b7e-29f4-42db-a368-aaf445675e03",
   "metadata": {},
   "outputs": [],
   "source": []
  }
 ],
 "metadata": {
  "kernelspec": {
   "display_name": "Python 3 (ipykernel)",
   "language": "python",
   "name": "python3"
  },
  "language_info": {
   "codemirror_mode": {
    "name": "ipython",
    "version": 3
   },
   "file_extension": ".py",
   "mimetype": "text/x-python",
   "name": "python",
   "nbconvert_exporter": "python",
   "pygments_lexer": "ipython3",
   "version": "3.10.6"
  }
 },
 "nbformat": 4,
 "nbformat_minor": 5
}
