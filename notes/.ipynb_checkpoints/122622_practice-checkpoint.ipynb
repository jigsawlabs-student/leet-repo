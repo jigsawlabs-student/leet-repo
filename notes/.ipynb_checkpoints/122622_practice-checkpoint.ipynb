{
 "cells": [
  {
   "cell_type": "code",
   "execution_count": 1,
   "metadata": {},
   "outputs": [],
   "source": [
    "string1 = \"aabbcccdeeee\"\n",
    "\n",
    "def encode_string(inputstring):\n",
    "    previous_char = \"\"\n",
    "    counter = 0\n",
    "    output = \"\"\n",
    "    for char in inputstring:\n",
    "        if previous_char == char:\n",
    "            counter += 1\n",
    "        else:    \n",
    "            if counter != 0:\n",
    "                output += str(counter) + previous_char\n",
    "            previous_char = char\n",
    "            counter = 1\n",
    "    output += str(counter) + previous_char\n",
    "    return output\n",
    "            "
   ]
  },
  {
   "cell_type": "code",
   "execution_count": 2,
   "metadata": {},
   "outputs": [
    {
     "data": {
      "text/plain": [
       "'2a2b3c1d4e'"
      ]
     },
     "execution_count": 2,
     "metadata": {},
     "output_type": "execute_result"
    }
   ],
   "source": [
    "encode_string(string1)"
   ]
  },
  {
   "cell_type": "code",
   "execution_count": 3,
   "metadata": {},
   "outputs": [],
   "source": [
    "def decode_string(encodedstring):\n",
    "    output = \"\"\n",
    "    for x,y in zip(encodedstring[::2], encodedstring[1::2]):\n",
    "        output += int(x) * y\n",
    "    return output"
   ]
  },
  {
   "cell_type": "code",
   "execution_count": 4,
   "metadata": {},
   "outputs": [
    {
     "data": {
      "text/plain": [
       "'aabbcccdeeee'"
      ]
     },
     "execution_count": 4,
     "metadata": {},
     "output_type": "execute_result"
    }
   ],
   "source": [
    "decode_string('2a2b3c1d4e')"
   ]
  },
  {
   "cell_type": "code",
   "execution_count": 6,
   "metadata": {},
   "outputs": [],
   "source": [
    "def roman2int(romanstring):\n",
    "    total = 0\n",
    "    romandict = {'M':1000,'D':500,'C':100, 'L':50,'X':10, 'V':5, 'I':1}\n",
    "    for idx in range(len(romanstring)):\n",
    "        if idx == len(romanstring) -1:\n",
    "            total += romandict[romanstring[idx]]\n",
    "        elif romandict[romanstring[idx]] < romandict[romanstring[idx+1]]:\n",
    "            total -= romandict[romanstring[idx]]\n",
    "        else:\n",
    "            total += romandict[romanstring[idx]]\n",
    "    return total\n",
    "            "
   ]
  },
  {
   "cell_type": "code",
   "execution_count": 9,
   "metadata": {},
   "outputs": [
    {
     "data": {
      "text/plain": [
       "1994"
      ]
     },
     "execution_count": 9,
     "metadata": {},
     "output_type": "execute_result"
    }
   ],
   "source": [
    "roman2int(\"MCMXCIV\")"
   ]
  },
  {
   "cell_type": "code",
   "execution_count": 10,
   "metadata": {},
   "outputs": [],
   "source": [
    "def int2roman(integer):\n",
    "    values_dict = {1000: 'M', 900:'CM' ,500: 'D', 400:'CD', 100: 'C', 90:'XC', 50: 'L', 40:'XL', 10: 'X', 9:'XI', 5: 'V', 4:'IV', 1: 'I'}\n",
    "    output = \"\"\n",
    "    values = values_dict.keys()\n",
    "    for value in values:\n",
    "        count = integer // value\n",
    "        remainder = integer % value\n",
    "        if count > 0:\n",
    "            output += count * values_dict[value]\n",
    "        integer = remainder\n",
    "    return output\n",
    "        \n",
    "        "
   ]
  },
  {
   "cell_type": "code",
   "execution_count": 12,
   "metadata": {},
   "outputs": [
    {
     "data": {
      "text/plain": [
       "'MCMXCXI'"
      ]
     },
     "execution_count": 12,
     "metadata": {},
     "output_type": "execute_result"
    }
   ],
   "source": [
    "int2roman(1999)"
   ]
  },
  {
   "cell_type": "code",
   "execution_count": 30,
   "metadata": {},
   "outputs": [],
   "source": [
    "def parenthesis_check(p_string):\n",
    "    char_dict = {\"(\":\")\", \"[\":\"]\", \"{\":\"}\"}\n",
    "    queue = []\n",
    "    for char in p_string:\n",
    "        # check if the char is open, then add to queue\n",
    "        if char in char_dict:\n",
    "            queue.append(char_dict[char])\n",
    "        # check if queue is empty or the close char is not the pop of queue, failing conditions\n",
    "        elif not queue or char != queue.pop():\n",
    "            return False\n",
    "    if not queue:\n",
    "        return True\n",
    "    else:\n",
    "        return False"
   ]
  },
  {
   "cell_type": "code",
   "execution_count": 32,
   "metadata": {},
   "outputs": [
    {
     "data": {
      "text/plain": [
       "True"
      ]
     },
     "execution_count": 32,
     "metadata": {},
     "output_type": "execute_result"
    }
   ],
   "source": [
    "parenthesis_check(\"({})\")"
   ]
  },
  {
   "cell_type": "code",
   "execution_count": 33,
   "metadata": {},
   "outputs": [],
   "source": [
    "def two_sum(num_list, target):\n",
    "    num_dict = {}\n",
    "    for idx, num in enumerate(num_list):\n",
    "        diff = target - num\n",
    "        if diff not in num_dict:\n",
    "            num_dict[num] = idx\n",
    "        else:\n",
    "            return (num_dict[diff],idx)"
   ]
  },
  {
   "cell_type": "code",
   "execution_count": 34,
   "metadata": {},
   "outputs": [],
   "source": [
    "num_list = [2,3,4,6]\n",
    "target = 9"
   ]
  },
  {
   "cell_type": "code",
   "execution_count": 35,
   "metadata": {},
   "outputs": [
    {
     "data": {
      "text/plain": [
       "(1, 3)"
      ]
     },
     "execution_count": 35,
     "metadata": {},
     "output_type": "execute_result"
    }
   ],
   "source": [
    "two_sum(num_list, target)"
   ]
  },
  {
   "cell_type": "code",
   "execution_count": 40,
   "metadata": {},
   "outputs": [],
   "source": [
    "def parenthesis_check2(p_string):\n",
    "    p_dict = {\"{\":\"}\", \"(\":\")\", \"[\":\"]\"}\n",
    "    queue = []\n",
    "    for char in p_string:\n",
    "        # check if there's an open parenthesis\n",
    "        print(char)\n",
    "        print(queue)\n",
    "        if char in p_dict:\n",
    "            queue.append(p_dict[char])\n",
    "        # check if the close parenthesis doesn't match the last of queue\n",
    "        elif not queue or char != queue.pop():\n",
    "            return False\n",
    "    # if queue is empty, valid string\n",
    "    if not queue:\n",
    "        return True\n",
    "    else:\n",
    "        return False"
   ]
  },
  {
   "cell_type": "code",
   "execution_count": 41,
   "metadata": {},
   "outputs": [
    {
     "name": "stdout",
     "output_type": "stream",
     "text": [
      "(\n",
      "[]\n",
      ")\n",
      "[')']\n",
      "{\n",
      "[]\n",
      "}\n",
      "['}']\n",
      "[\n",
      "[]\n",
      "]\n",
      "[']']\n"
     ]
    },
    {
     "data": {
      "text/plain": [
       "True"
      ]
     },
     "execution_count": 41,
     "metadata": {},
     "output_type": "execute_result"
    }
   ],
   "source": [
    "parenthesis_check2(\"(){}[]\")"
   ]
  },
  {
   "cell_type": "code",
   "execution_count": 46,
   "metadata": {},
   "outputs": [],
   "source": [
    "# \"aabbbcddddee\" -> \"2a3b1c4d2e\"\n",
    "\n",
    "def encode_try3(raw_string):\n",
    "    output = \"\"\n",
    "    counter = 0\n",
    "    previous_char = \"\"\n",
    "    for char in raw_string:\n",
    "        if char == previous_char:\n",
    "            counter += 1\n",
    "        else:\n",
    "            if counter != 0:\n",
    "                output += str(counter) + previous_char\n",
    "            counter = 1\n",
    "            previous_char = char\n",
    "    # appending the last encoded char to output\n",
    "    output += str(counter) + previous_char\n",
    "    return output        \n",
    "    \n",
    "    "
   ]
  },
  {
   "cell_type": "code",
   "execution_count": 47,
   "metadata": {},
   "outputs": [
    {
     "data": {
      "text/plain": [
       "'2a3b1c4d2e'"
      ]
     },
     "execution_count": 47,
     "metadata": {},
     "output_type": "execute_result"
    }
   ],
   "source": [
    "encode_try3(\"aabbbcddddee\")"
   ]
  },
  {
   "cell_type": "code",
   "execution_count": 50,
   "metadata": {},
   "outputs": [],
   "source": [
    "# # \"2a3b1c4d2e\" -> \"aabbbcddddee\" \n",
    "\n",
    "def decode_try3(encoded_string):\n",
    "    output = \"\"\n",
    "    for counter, char in zip(encoded_string[::2], encoded_string[1::2]):\n",
    "        output += int(counter) * char\n",
    "    return output\n",
    "    "
   ]
  },
  {
   "cell_type": "code",
   "execution_count": 51,
   "metadata": {},
   "outputs": [
    {
     "data": {
      "text/plain": [
       "'aabbbcddddee'"
      ]
     },
     "execution_count": 51,
     "metadata": {},
     "output_type": "execute_result"
    }
   ],
   "source": [
    "decode_try3(\"2a3b1c4d2e\")"
   ]
  },
  {
   "cell_type": "code",
   "execution_count": 52,
   "metadata": {},
   "outputs": [],
   "source": [
    "animal_traits = \"cats:meow,dogs:bark,dogs:wag tail, squirrel:eat nuts\""
   ]
  },
  {
   "cell_type": "code",
   "execution_count": 55,
   "metadata": {},
   "outputs": [],
   "source": [
    "# string to dict \"cats:meow,dogs:bark,dogs:wag tail, squirrel:eat nuts\" -> {'cats':'meow','dogs':'bark+wag tail','squirrel':'eat nuts'}\n",
    "def conv2dict(animal_string):\n",
    "    animal_list = animal_string.split(\",\") # ['cats:meow','dogs:bark',...]\n",
    "    output_dict = {}\n",
    "    for animal_attr in animal_list:\n",
    "        temp = animal_attr.split(\":\")\n",
    "        animal = temp[0]\n",
    "        attr = temp[1]\n",
    "        if animal in output_dict:\n",
    "            combined_attr = output_dict[animal] + '+' + attr\n",
    "            output_dict[animal] = combined_attr\n",
    "        else:\n",
    "            output_dict[animal] = attr\n",
    "    return output_dict\n",
    "\n",
    "        "
   ]
  },
  {
   "cell_type": "code",
   "execution_count": 56,
   "metadata": {},
   "outputs": [
    {
     "data": {
      "text/plain": [
       "{'cats': 'meow', 'dogs': 'bark+wag tail', ' squirrel': 'eat nuts'}"
      ]
     },
     "execution_count": 56,
     "metadata": {},
     "output_type": "execute_result"
    }
   ],
   "source": [
    "conv2dict(animal_traits)"
   ]
  },
  {
   "cell_type": "code",
   "execution_count": 57,
   "metadata": {},
   "outputs": [],
   "source": [
    "# {'cats': 'meow', 'dogs': 'bark+wag tail', ' squirrel': 'eat nuts'} -> {'cats+dogs+squirrel':'meow+bark+...'}\n",
    "\n",
    "def combined_dict(input_dict):\n",
    "    if len(list(input_dict.keys())) <= 1:\n",
    "        return input_dict\n",
    "    output_dict = {}\n",
    "    animals = list(input_dict.keys())\n",
    "    attributes = list(input_dict.values())\n",
    "    combined_animals = animals[0]\n",
    "    combined_attributes = attributes[0]\n",
    "    for animal in animals[1:]:\n",
    "        combined_animals += '+' + animal\n",
    "    for attribute in attributes[1:]:\n",
    "        combined_attributes += '+' + attribute\n",
    "    output_dict[combined_animals] = combined_attributes\n",
    "    return output_dict\n",
    "    \n",
    "    "
   ]
  },
  {
   "cell_type": "code",
   "execution_count": 59,
   "metadata": {},
   "outputs": [
    {
     "data": {
      "text/plain": [
       "{'cats+dogs+squirrel': 'meow+bark+wag tail+eat nuts'}"
      ]
     },
     "execution_count": 59,
     "metadata": {},
     "output_type": "execute_result"
    }
   ],
   "source": [
    "input_dict = {'cats': 'meow', 'dogs': 'bark+wag tail', 'squirrel': 'eat nuts'}\n",
    "combined_dict(input_dict)"
   ]
  },
  {
   "cell_type": "code",
   "execution_count": 62,
   "metadata": {},
   "outputs": [],
   "source": [
    "# \"VIII\" -> 8\n",
    "\n",
    "def roman2int_012023(roman_string):\n",
    "    roman_dict = {'M':1000, 'D':500, 'C':100, 'L':50, 'X':10, 'V':5, 'I':1}\n",
    "    output = 0\n",
    "    for idx in range(len(roman_string)):\n",
    "        if idx == len(roman_string) - 1:\n",
    "            output += roman_dict[roman_string[idx]]\n",
    "        elif roman_dict[roman_string[idx]] < roman_dict[roman_string[idx+1]]:\n",
    "            output -= roman_dict[roman_string[idx]]\n",
    "        else:\n",
    "            output += roman_dict[roman_string[idx]]\n",
    "    return output\n"
   ]
  },
  {
   "cell_type": "code",
   "execution_count": 64,
   "metadata": {},
   "outputs": [
    {
     "data": {
      "text/plain": [
       "13"
      ]
     },
     "execution_count": 64,
     "metadata": {},
     "output_type": "execute_result"
    }
   ],
   "source": [
    "roman2int_012023(\"XIII\")"
   ]
  },
  {
   "cell_type": "code",
   "execution_count": 66,
   "metadata": {},
   "outputs": [],
   "source": [
    "# 9 -> \"IX\"\n",
    "\n",
    "def int2roman_012023(number):\n",
    "    roman_dict = {1000:'M', 900:'CM', 500:'D', 400:'CD', 100:'C', 90:'XC', 50:\"L\", 40:\"XL\", 10:\"X\", 9:\"IX\", 5:\"V\", 4:\"IV\", 1:\"I\"}\n",
    "    output = \"\"\n",
    "    roman_keys = list(roman_dict.keys())\n",
    "    for key in roman_keys:\n",
    "        count = number // key\n",
    "        remainder = number % key\n",
    "        if count > 0:\n",
    "            output += roman_dict[key] * count\n",
    "        number = remainder\n",
    "    return output\n",
    "    "
   ]
  },
  {
   "cell_type": "code",
   "execution_count": 70,
   "metadata": {},
   "outputs": [
    {
     "data": {
      "text/plain": [
       "'VIII'"
      ]
     },
     "execution_count": 70,
     "metadata": {},
     "output_type": "execute_result"
    }
   ],
   "source": [
    "int2roman_012023(8)"
   ]
  },
  {
   "cell_type": "code",
   "execution_count": 71,
   "metadata": {},
   "outputs": [],
   "source": [
    "def two_sum_012023(numlist, target):\n",
    "    h = {}\n",
    "    for idx, num in enumerate(numlist):\n",
    "        diff = target - num\n",
    "        if diff not in h:\n",
    "            h[num] = idx\n",
    "        else:\n",
    "            return (h[diff],idx)"
   ]
  },
  {
   "cell_type": "code",
   "execution_count": 72,
   "metadata": {},
   "outputs": [
    {
     "data": {
      "text/plain": [
       "(2, 3)"
      ]
     },
     "execution_count": 72,
     "metadata": {},
     "output_type": "execute_result"
    }
   ],
   "source": [
    "two_sum_012023([2,3,6,9], 15)"
   ]
  },
  {
   "cell_type": "code",
   "execution_count": 73,
   "metadata": {},
   "outputs": [],
   "source": [
    "def parenthesis_checker_102023(p_string):\n",
    "    pdict = {\"{\":\"}\", \"(\":\")\", \"[\":\"]\"}\n",
    "    queue = []\n",
    "    for char in p_string:\n",
    "        if char in pdict:\n",
    "            queue.append(pdict[char])\n",
    "        elif not queue or queue.pop() != char:\n",
    "            return False\n",
    "    if not queue:\n",
    "        return True\n",
    "    else:\n",
    "        return False"
   ]
  },
  {
   "cell_type": "code",
   "execution_count": 77,
   "metadata": {},
   "outputs": [
    {
     "data": {
      "text/plain": [
       "True"
      ]
     },
     "execution_count": 77,
     "metadata": {},
     "output_type": "execute_result"
    }
   ],
   "source": [
    "parenthesis_checker_102023(\"{[]}\")"
   ]
  },
  {
   "cell_type": "code",
   "execution_count": 78,
   "metadata": {},
   "outputs": [],
   "source": [
    "# \"aaabbcdddde\" -> \"3a2b1c4d1e\"\n",
    "\n",
    "def encoder_012023(rawstring):\n",
    "    counter = 0\n",
    "    output = \"\"\n",
    "    previous_char = \"\"\n",
    "    for char in rawstring:\n",
    "        if char == previous_char:\n",
    "            counter += 1\n",
    "        else:\n",
    "            if counter != 0:\n",
    "                output += str(counter) + previous_char\n",
    "            counter = 1\n",
    "            previous_char = char\n",
    "    output += str(counter) + previous_char\n",
    "    return output\n",
    "            "
   ]
  },
  {
   "cell_type": "code",
   "execution_count": 79,
   "metadata": {},
   "outputs": [
    {
     "data": {
      "text/plain": [
       "'3a2b1c4d1e'"
      ]
     },
     "execution_count": 79,
     "metadata": {},
     "output_type": "execute_result"
    }
   ],
   "source": [
    "encoder_012023(\"aaabbcdddde\")"
   ]
  },
  {
   "cell_type": "code",
   "execution_count": 80,
   "metadata": {},
   "outputs": [],
   "source": [
    "# \"3a2b1c4d1e\" -> \"aaabbcdddde\"\n",
    "\n",
    "def decoder_012023(encoded_string):\n",
    "    output = ''\n",
    "    for counter, char in zip(encoded_string[::2], encoded_string[1::2]):\n",
    "        output += char * int(counter)\n",
    "    return output"
   ]
  },
  {
   "cell_type": "code",
   "execution_count": 81,
   "metadata": {},
   "outputs": [
    {
     "data": {
      "text/plain": [
       "'aaabbcdddde'"
      ]
     },
     "execution_count": 81,
     "metadata": {},
     "output_type": "execute_result"
    }
   ],
   "source": [
    "decoder_012023(\"3a2b1c4d1e\")"
   ]
  },
  {
   "cell_type": "code",
   "execution_count": 82,
   "metadata": {},
   "outputs": [],
   "source": [
    "coins = [1, 5, 10, 25]"
   ]
  },
  {
   "cell_type": "code",
   "execution_count": 86,
   "metadata": {},
   "outputs": [],
   "source": [
    "coins.sort(reverse=True)"
   ]
  },
  {
   "cell_type": "code",
   "execution_count": 87,
   "metadata": {},
   "outputs": [
    {
     "data": {
      "text/plain": [
       "[25, 10, 5, 1]"
      ]
     },
     "execution_count": 87,
     "metadata": {},
     "output_type": "execute_result"
    }
   ],
   "source": [
    "coins"
   ]
  },
  {
   "cell_type": "code",
   "execution_count": 88,
   "metadata": {},
   "outputs": [
    {
     "data": {
      "text/plain": [
       "'def firstRepeatedWord(sentence):\\n    # Write your code here\\n    delim_list = [\\',\\',\\' \\', \\'.\\']\\n    new_list = []\\n    temp_s = sentence\\n    first_char = \"\"\\n    for idx, char in enumerate(sentence):  # 0, H\\n        print(char)\\n        \\n        if not first_char and char not in delim_list:\\n            print(new_list)\\n            print(first_char)\\n            first_char = char\\n            first_part_idx = idx\\n            print(first_part_idx)\\n        elif char in delim_list:\\n            split_sentence = sentence.split(char)\\n            new_list.append(split_sentence[first_part_idx:idx])\\n            first_char = \"\"\\n            print(new_list)\\n        \\n    print(new_list)\\n    pass        \\n        \\n    # seperate words into list\\n    #sentence.split(\\',\\')\\n    \\n    #match_word = \"\"\\n    # for loop \\n    '"
      ]
     },
     "execution_count": 88,
     "metadata": {},
     "output_type": "execute_result"
    }
   ],
   "source": [
    "\"\"\"def firstRepeatedWord(sentence):\n",
    "    # Write your code here\n",
    "    delim_list = [',',' ', '.']\n",
    "    new_list = []\n",
    "    temp_s = sentence\n",
    "    first_char = \"\"\n",
    "    for idx, char in enumerate(sentence):  # 0, H\n",
    "        print(char)\n",
    "        \n",
    "        if not first_char and char not in delim_list:\n",
    "            print(new_list)\n",
    "            print(first_char)\n",
    "            first_char = char\n",
    "            first_part_idx = idx\n",
    "            print(first_part_idx)\n",
    "        elif char in delim_list:\n",
    "            split_sentence = sentence.split(char)\n",
    "            new_list.append(split_sentence[first_part_idx:idx])\n",
    "            first_char = \"\"\n",
    "            print(new_list)\n",
    "        \n",
    "    print(new_list)\n",
    "    pass        \n",
    "        \n",
    "    # seperate words into list\n",
    "    #sentence.split(',')\n",
    "    \n",
    "    #match_word = \"\"\n",
    "    # for loop \n",
    "    \"\"\""
   ]
  },
  {
   "cell_type": "code",
   "execution_count": null,
   "metadata": {},
   "outputs": [],
   "source": []
  }
 ],
 "metadata": {
  "kernelspec": {
   "display_name": "Python 3",
   "language": "python",
   "name": "python3"
  },
  "language_info": {
   "codemirror_mode": {
    "name": "ipython",
    "version": 3
   },
   "file_extension": ".py",
   "mimetype": "text/x-python",
   "name": "python",
   "nbconvert_exporter": "python",
   "pygments_lexer": "ipython3",
   "version": "3.8.3"
  }
 },
 "nbformat": 4,
 "nbformat_minor": 4
}
