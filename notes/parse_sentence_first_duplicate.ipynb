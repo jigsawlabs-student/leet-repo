{
 "cells": [
  {
   "cell_type": "code",
   "execution_count": 29,
   "metadata": {},
   "outputs": [],
   "source": [
    "# \"We had fun. Have we have fun before:\" -> \"have\"\n",
    "\n",
    "def parse_sentence(sentence):\n",
    "    delim_list = [' ','.',',',':',';','?','-']\n",
    "    sentence_list = []\n",
    "    beginning_index = \"\"\n",
    "    first_char = \"\"\n",
    "    for idx, char in enumerate(sentence):\n",
    "        if not first_char:\n",
    "            beginning_index = idx\n",
    "            first_char = char\n",
    "        elif not first_char and not beginning_index:\n",
    "            beginning_index = idx\n",
    "        elif char in delim_list:\n",
    "            sentence_list.append(str(sentence[beginning_index:idx]))\n",
    "            beginning_index = \"\"\n",
    "            first_char = \"\"\n",
    "    return sentence_list\n",
    "        \n",
    "def first_duplicate(sentence_list):\n",
    "    match_list = []\n",
    "    for word in sentence_list:\n",
    "        if word in match_list:\n",
    "            return word\n",
    "        else:\n",
    "            match_list.append(word)\n"
   ]
  },
  {
   "cell_type": "code",
   "execution_count": 30,
   "metadata": {},
   "outputs": [
    {
     "data": {
      "text/plain": [
       "'have'"
      ]
     },
     "execution_count": 30,
     "metadata": {},
     "output_type": "execute_result"
    }
   ],
   "source": [
    "first_duplicate(parse_sentence(\"We have fun. Have we have fun before:\"))"
   ]
  },
  {
   "cell_type": "code",
   "execution_count": null,
   "metadata": {},
   "outputs": [],
   "source": []
  }
 ],
 "metadata": {
  "kernelspec": {
   "display_name": "Python 3 (ipykernel)",
   "language": "python",
   "name": "python3"
  },
  "language_info": {
   "codemirror_mode": {
    "name": "ipython",
    "version": 3
   },
   "file_extension": ".py",
   "mimetype": "text/x-python",
   "name": "python",
   "nbconvert_exporter": "python",
   "pygments_lexer": "ipython3",
   "version": "3.10.6"
  }
 },
 "nbformat": 4,
 "nbformat_minor": 4
}
