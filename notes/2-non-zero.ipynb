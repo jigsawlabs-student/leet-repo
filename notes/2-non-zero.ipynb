{
 "cells": [
  {
   "cell_type": "markdown",
   "id": "6dc94eeb-a2e0-48f0-86cf-b82b6f3b8eac",
   "metadata": {},
   "source": [
    "# NonZero Elements "
   ]
  },
  {
   "cell_type": "markdown",
   "id": "e0b83566-0536-42b9-943b-a89f9c99382b",
   "metadata": {},
   "source": [
    "Given a list, move all of the zeros to the back, and keep all of the elements in the same order."
   ]
  },
  {
   "cell_type": "markdown",
   "id": "8a7bea6a-38f3-4797-b318-92cd480cbcba",
   "metadata": {},
   "source": [
    "1. Brute Force"
   ]
  },
  {
   "cell_type": "markdown",
   "id": "890fd5f2-7e86-4c53-9af5-b53ced57f5fe",
   "metadata": {},
   "source": [
    "* Create a new list\n",
    "* Then move all of the zero elements to a new list.  And set the remaining numbers to zero.\n"
   ]
  },
  {
   "cell_type": "markdown",
   "id": "1902673e-78d1-4ed9-9b9e-6d69c14cbfb4",
   "metadata": {},
   "source": [
    "2. More clever"
   ]
  },
  {
   "cell_type": "markdown",
   "id": "92f29f51-6e8a-46d1-a887-a11ca31a499c",
   "metadata": {},
   "source": [
    "> Without creating a new list..."
   ]
  },
  {
   "cell_type": "code",
   "execution_count": 5,
   "id": "43822ea7-d86e-46d9-85b2-db074ef5087c",
   "metadata": {},
   "outputs": [],
   "source": [
    "array = [0, 1, 3, 0, 4]\n",
    "j = 0 \n",
    "for element in array:\n",
    "    if element != 0:\n",
    "        array[j] = element\n",
    "        j += 1\n",
    "    \n",
    "for i in range(j, len(array)):\n",
    "    array[i] = 0"
   ]
  },
  {
   "cell_type": "code",
   "execution_count": 6,
   "id": "e26e0ea6-2a4c-4ed5-be81-59a131086412",
   "metadata": {},
   "outputs": [
    {
     "data": {
      "text/plain": [
       "[1, 3, 4, 0, 0]"
      ]
     },
     "execution_count": 6,
     "metadata": {},
     "output_type": "execute_result"
    }
   ],
   "source": [
    "array"
   ]
  },
  {
   "cell_type": "code",
   "execution_count": null,
   "id": "2ece3584-4f34-4d3e-b1f4-f7af80a29e29",
   "metadata": {},
   "outputs": [],
   "source": []
  }
 ],
 "metadata": {
  "kernelspec": {
   "display_name": "Python 3 (ipykernel)",
   "language": "python",
   "name": "python3"
  },
  "language_info": {
   "codemirror_mode": {
    "name": "ipython",
    "version": 3
   },
   "file_extension": ".py",
   "mimetype": "text/x-python",
   "name": "python",
   "nbconvert_exporter": "python",
   "pygments_lexer": "ipython3",
   "version": "3.10.6"
  }
 },
 "nbformat": 4,
 "nbformat_minor": 5
}
